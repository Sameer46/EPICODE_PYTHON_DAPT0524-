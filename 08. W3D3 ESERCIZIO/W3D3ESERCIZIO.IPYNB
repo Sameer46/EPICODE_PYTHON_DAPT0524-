{
 "cells": [
  {
   "cell_type": "code",
   "execution_count": null,
   "metadata": {},
   "outputs": [
    {
     "name": "stdout",
     "output_type": "stream",
     "text": [
      "             ccomune             cprovincia  cregione            cnome  \\\n",
      "0              ALTRO                  ALTRO     ALTRO                    \n",
      "1              ALTRO                  ALTRO     ALTRO      Lenny's Pub   \n",
      "2              ALTRO                  ALTRO     ALTRO  Murrayfield Pub   \n",
      "3              ALTRO                  ALTRO     ALTRO           Snop?e   \n",
      "4       Ala di Stura                 TORINO  Piemonte                    \n",
      "...              ...                    ...       ...              ...   \n",
      "2492   Barletta (BT)  BARLETTA ANDRIA TRANI    Puglia      Santa Croce   \n",
      "2493  Bisceglie (BT)  BARLETTA ANDRIA TRANI    Puglia      Auld Dublin   \n",
      "2494  Bisceglie (BT)  BARLETTA ANDRIA TRANI    Puglia            Ferus   \n",
      "2495      Trani (BT)  BARLETTA ANDRIA TRANI    Puglia          Re Artù   \n",
      "2496      Trani (BT)  BARLETTA ANDRIA TRANI    Puglia     Well's Fargo   \n",
      "\n",
      "      canno_inserimento cdata_e_ora_inserimento  \\\n",
      "0                  2011    2011-06-25T23:17:43Z   \n",
      "1                  2011    2011-07-29T17:22:56Z   \n",
      "2                  2015    2015-10-24T09:28:06Z   \n",
      "3                  2010    2010-09-22T08:32:52Z   \n",
      "4                  2012    2012-05-21T14:28:45Z   \n",
      "...                 ...                     ...   \n",
      "2492               2010    2010-01-17T16:15:08Z   \n",
      "2493               2014    2014-03-03T20:56:16Z   \n",
      "2494               2014    2014-01-07T19:22:18Z   \n",
      "2495               2009    2009-09-04T07:57:05Z   \n",
      "2496               2009    2009-08-10T12:44:03Z   \n",
      "\n",
      "      cidentificatore_in_openstreetmap  clongitudine  clatitudine  \n",
      "0                           1339088150     13.733257    45.575830  \n",
      "1                           1375887295     12.418681    46.747584  \n",
      "2                           3323888102      9.029585    45.831340  \n",
      "3                            921157802     13.640939    45.954607  \n",
      "4                           1760949034      7.307306    45.313150  \n",
      "...                                ...           ...          ...  \n",
      "2492                         615632993     16.285782    41.320671  \n",
      "2493                        2613737619     16.497204    41.241814  \n",
      "2494                        2613737620     16.506175    41.240957  \n",
      "2495                         482836935     16.418124    41.281518  \n",
      "2496                         387223648     16.436765    41.267264  \n",
      "\n",
      "[2497 rows x 9 columns]\n"
     ]
    }
   ],
   "source": [
    "# Andiamo su http://www.datiopen.it/it/opendata/Mappa_dei_pub_circoli_locali_in_Italia \n",
    "# e scarichiamo il file (in formato JSON) della mappa dei pub, circoli e locali in Italia Nota: \n",
    "# per leggerlo nella funzione open() dovremo aggiungere il parametro encoding=\"latin1\", ad \n",
    "# esempio: f = open(file_path, \"r\", encoding=\"latin1\") dove file_path è chiaramente la posizione del file nel nostro calcolatore.\n",
    "import pandas as pd\n",
    "\n",
    "file_path = r\"G:\\EPICODE\\Appunti\\File Python\\08. W3D3 ESERCIZIO\\Mappa-dei-pub-circoli-locali-in-Italia.json\"\n",
    "\n",
    "# Load the JSON file into a DataFrame\n",
    "df = pd.read_json(file_path, encoding=\"latin1\")\n",
    "\n",
    "# Display the DataFrame\n",
    "print(df)"
   ]
  },
  {
   "cell_type": "code",
   "execution_count": null,
   "metadata": {},
   "outputs": [
    {
     "data": {
      "text/plain": [
       "(2497, 9)"
      ]
     },
     "execution_count": 2,
     "metadata": {},
     "output_type": "execute_result"
    }
   ],
   "source": [
    "# • quanti dati ci sono in totale? \n",
    "\n",
    "df.shape"
   ]
  },
  {
   "cell_type": "code",
   "execution_count": 3,
   "metadata": {},
   "outputs": [
    {
     "data": {
      "text/plain": [
       "Index(['ccomune', 'cprovincia', 'cregione', 'cnome', 'canno_inserimento',\n",
       "       'cdata_e_ora_inserimento', 'cidentificatore_in_openstreetmap',\n",
       "       'clongitudine', 'clatitudine'],\n",
       "      dtype='object')"
      ]
     },
     "execution_count": 3,
     "metadata": {},
     "output_type": "execute_result"
    }
   ],
   "source": [
    "# • quali sono i metadati? \n",
    "df.columns"
   ]
  },
  {
   "cell_type": "code",
   "execution_count": 4,
   "metadata": {},
   "outputs": [
    {
     "data": {
      "text/html": [
       "<div>\n",
       "<style scoped>\n",
       "    .dataframe tbody tr th:only-of-type {\n",
       "        vertical-align: middle;\n",
       "    }\n",
       "\n",
       "    .dataframe tbody tr th {\n",
       "        vertical-align: top;\n",
       "    }\n",
       "\n",
       "    .dataframe thead th {\n",
       "        text-align: right;\n",
       "    }\n",
       "</style>\n",
       "<table border=\"1\" class=\"dataframe\">\n",
       "  <thead>\n",
       "    <tr style=\"text-align: right;\">\n",
       "      <th></th>\n",
       "      <th>ccomune</th>\n",
       "      <th>cprovincia</th>\n",
       "      <th>cregione</th>\n",
       "      <th>cnome</th>\n",
       "      <th>canno_inserimento</th>\n",
       "      <th>cdata_e_ora_inserimento</th>\n",
       "      <th>cidentificatore_in_openstreetmap</th>\n",
       "      <th>clongitudine</th>\n",
       "      <th>clatitudine</th>\n",
       "    </tr>\n",
       "  </thead>\n",
       "  <tbody>\n",
       "    <tr>\n",
       "      <th>0</th>\n",
       "      <td>ALTRO</td>\n",
       "      <td>ALTRO</td>\n",
       "      <td>ALTRO</td>\n",
       "      <td></td>\n",
       "      <td>2011</td>\n",
       "      <td>2011-06-25T23:17:43Z</td>\n",
       "      <td>1339088150</td>\n",
       "      <td>13.733257</td>\n",
       "      <td>45.57583</td>\n",
       "    </tr>\n",
       "  </tbody>\n",
       "</table>\n",
       "</div>"
      ],
      "text/plain": [
       "  ccomune cprovincia cregione cnome  canno_inserimento  \\\n",
       "0   ALTRO      ALTRO    ALTRO                     2011   \n",
       "\n",
       "  cdata_e_ora_inserimento  cidentificatore_in_openstreetmap  clongitudine  \\\n",
       "0    2011-06-25T23:17:43Z                        1339088150     13.733257   \n",
       "\n",
       "   clatitudine  \n",
       "0     45.57583  "
      ]
     },
     "execution_count": 4,
     "metadata": {},
     "output_type": "execute_result"
    }
   ],
   "source": [
    "# • stampiamo il primo elemento \n",
    "df.head(1)"
   ]
  },
  {
   "cell_type": "code",
   "execution_count": 7,
   "metadata": {},
   "outputs": [
    {
     "data": {
      "text/html": [
       "<div>\n",
       "<style scoped>\n",
       "    .dataframe tbody tr th:only-of-type {\n",
       "        vertical-align: middle;\n",
       "    }\n",
       "\n",
       "    .dataframe tbody tr th {\n",
       "        vertical-align: top;\n",
       "    }\n",
       "\n",
       "    .dataframe thead th {\n",
       "        text-align: right;\n",
       "    }\n",
       "</style>\n",
       "<table border=\"1\" class=\"dataframe\">\n",
       "  <thead>\n",
       "    <tr style=\"text-align: right;\">\n",
       "      <th></th>\n",
       "      <th>ccomune</th>\n",
       "      <th>cprovincia</th>\n",
       "      <th>cregione</th>\n",
       "      <th>cnome</th>\n",
       "      <th>canno_inserimento</th>\n",
       "      <th>cdata_e_ora_inserimento</th>\n",
       "      <th>cidentificatore_in_openstreetmap</th>\n",
       "      <th>clongitudine</th>\n",
       "      <th>clatitudine</th>\n",
       "    </tr>\n",
       "  </thead>\n",
       "  <tbody>\n",
       "    <tr>\n",
       "      <th>2496</th>\n",
       "      <td>Trani (BT)</td>\n",
       "      <td>BARLETTA ANDRIA TRANI</td>\n",
       "      <td>Puglia</td>\n",
       "      <td>Well's Fargo</td>\n",
       "      <td>2009</td>\n",
       "      <td>2009-08-10T12:44:03Z</td>\n",
       "      <td>387223648</td>\n",
       "      <td>16.436765</td>\n",
       "      <td>41.267264</td>\n",
       "    </tr>\n",
       "  </tbody>\n",
       "</table>\n",
       "</div>"
      ],
      "text/plain": [
       "         ccomune             cprovincia cregione         cnome  \\\n",
       "2496  Trani (BT)  BARLETTA ANDRIA TRANI   Puglia  Well's Fargo   \n",
       "\n",
       "      canno_inserimento cdata_e_ora_inserimento  \\\n",
       "2496               2009    2009-08-10T12:44:03Z   \n",
       "\n",
       "      cidentificatore_in_openstreetmap  clongitudine  clatitudine  \n",
       "2496                         387223648     16.436765    41.267264  "
      ]
     },
     "execution_count": 7,
     "metadata": {},
     "output_type": "execute_result"
    }
   ],
   "source": [
    "# • stampiamo l'ultimo elemento \n",
    "df.tail(1)"
   ]
  },
  {
   "cell_type": "code",
   "execution_count": 11,
   "metadata": {},
   "outputs": [
    {
     "data": {
      "text/html": [
       "<div>\n",
       "<style scoped>\n",
       "    .dataframe tbody tr th:only-of-type {\n",
       "        vertical-align: middle;\n",
       "    }\n",
       "\n",
       "    .dataframe tbody tr th {\n",
       "        vertical-align: top;\n",
       "    }\n",
       "\n",
       "    .dataframe thead th {\n",
       "        text-align: right;\n",
       "    }\n",
       "</style>\n",
       "<table border=\"1\" class=\"dataframe\">\n",
       "  <thead>\n",
       "    <tr style=\"text-align: right;\">\n",
       "      <th></th>\n",
       "      <th>ccomune</th>\n",
       "      <th>cprovincia</th>\n",
       "      <th>cregione</th>\n",
       "      <th>cnome</th>\n",
       "      <th>canno_inserimento</th>\n",
       "      <th>cdata_e_ora_inserimento</th>\n",
       "      <th>cidentificatore_in_openstreetmap</th>\n",
       "      <th>clongitudine</th>\n",
       "      <th>clatitudine</th>\n",
       "    </tr>\n",
       "  </thead>\n",
       "  <tbody>\n",
       "    <tr>\n",
       "      <th>294</th>\n",
       "      <td>Savignone</td>\n",
       "      <td>GENOVA</td>\n",
       "      <td>Liguria</td>\n",
       "      <td>Hermann Hesse</td>\n",
       "      <td>2013</td>\n",
       "      <td>2013-12-28T00:31:13Z</td>\n",
       "      <td>2597738500</td>\n",
       "      <td>8.989646</td>\n",
       "      <td>44.564596</td>\n",
       "    </tr>\n",
       "  </tbody>\n",
       "</table>\n",
       "</div>"
      ],
      "text/plain": [
       "       ccomune cprovincia cregione          cnome  canno_inserimento  \\\n",
       "294  Savignone     GENOVA  Liguria  Hermann Hesse               2013   \n",
       "\n",
       "    cdata_e_ora_inserimento  cidentificatore_in_openstreetmap  clongitudine  \\\n",
       "294    2013-12-28T00:31:13Z                        2597738500      8.989646   \n",
       "\n",
       "     clatitudine  \n",
       "294    44.564596  "
      ]
     },
     "execution_count": 11,
     "metadata": {},
     "output_type": "execute_result"
    }
   ],
   "source": [
    "# • riusciamo a stampare un elemento a caso? \n",
    "df.sample(1)"
   ]
  },
  {
   "cell_type": "code",
   "execution_count": null,
   "metadata": {},
   "outputs": [
    {
     "name": "stdout",
     "output_type": "stream",
     "text": [
      "il periodo di interesse va dal 2007 al 2016\n"
     ]
    }
   ],
   "source": [
    "# • quali sono gli anni di inserimento presenti? \n",
    "min_year = df['canno_inserimento'].min()\n",
    "max_year = df['canno_inserimento'].max()\n",
    "\n",
    "# Visualizzare il periodo di interesse\n",
    "print(f\"Il periodo di interesse va dal {min_year} al {max_year}\")"
   ]
  },
  {
   "cell_type": "code",
   "execution_count": 22,
   "metadata": {},
   "outputs": [
    {
     "name": "stdout",
     "output_type": "stream",
     "text": [
      "Le attività nel quadrato di longitudine 9-10 e latitudine 45-46 sono 303\n"
     ]
    }
   ],
   "source": [
    "# • quante attività ci sono nel quadrato di longitudine 9-10 e latitudine 45-46? \n",
    "lon_9_10 = (df[\"clongitudine\"] >= 9) & (df[\"clongitudine\"] <= 10)\n",
    "lat_45_46 = (df[\"clatitudine\"] >= 45) & (df[\"clatitudine\"] <= 46)\n",
    "activities_in_region = len(df[lon_9_10 & lat_45_46])\n",
    "print(f\"Le attività nel quadrato di longitudine 9-10 e latitudine 45-46 sono {activities_in_region}\")"
   ]
  },
  {
   "cell_type": "code",
   "execution_count": 24,
   "metadata": {},
   "outputs": [
    {
     "name": "stdout",
     "output_type": "stream",
     "text": [
      "nella provincia di VICENZA ci sono 73 attivita\n"
     ]
    }
   ],
   "source": [
    "# • quante attività ci sono nella provincia di Vicenza? \n",
    "vi = df[\"cprovincia\"] == \"VICENZA\"\n",
    "\n",
    "print(f\"nella provincia di VICENZA ci sono {len(df[vi])} attivita\")"
   ]
  },
  {
   "cell_type": "code",
   "execution_count": null,
   "metadata": {},
   "outputs": [],
   "source": [
    "# • quante enoteche ci sono, e come si chiamano? \n"
   ]
  },
  {
   "cell_type": "code",
   "execution_count": null,
   "metadata": {},
   "outputs": [],
   "source": [
    "# • quante attività ci sono in Lazio e Abruzzo assieme?"
   ]
  },
  {
   "cell_type": "code",
   "execution_count": null,
   "metadata": {},
   "outputs": [],
   "source": [
    "# Nei beginner_datasets, il file boston.csv contiene il Boston Housing Dataset, \n",
    "# che deriva dalle informazioni raccolte dal Census Service degli Stati Uniti sulle abitazioni nell'area di Boston.\n",
    "#  Di seguito vengono descritte le colonne del dataset: \n",
    "# • CRIM - tasso di criminalità pro capite per città \n",
    "# • ZN - proporzione di terreni residenziali suddivisi in zone per lotti superiori a 25.000 piedi quadrati. \n",
    "# • INDUS - percentuale di acri di attività commerciali non al dettaglio per città. \n",
    "# • CHAS - variabile dummy del fiume Charles (1 se il tratto costeggia il fiume; 0 altrimenti\n",
    "# • NOX - concentrazione di ossidi di azoto (parti per 10 milioni). \n",
    "# • RM - numero medio di stanze per abitazione \n",
    "# • AGE - proporzione di unità abitative occupate da proprietari costruite prima del 1940 \n",
    "# • DIS - distanze ponderate da cinque centri occupazionali di Boston \n",
    "# • RAD - indice di accessibilità alle autostrade radiali \n",
    "# • TAX - aliquota dell'imposta fondiaria sul valore pieno per 10.000 dollari \n",
    "# • PTRATIO - rapporto alunni-insegnanti per città \n",
    "# • BLACK - la percentuale di neri per città \n",
    "# • LSTAT - % di popolazione di condizione più bassa 8 \n",
    "# • MEDV - Valore mediano delle case, espresso in migliaia di dollari\n",
    "\n",
    "\n",
    "\n",
    "\n"
   ]
  },
  {
   "cell_type": "code",
   "execution_count": 16,
   "metadata": {},
   "outputs": [
    {
     "name": "stdout",
     "output_type": "stream",
     "text": [
      "        crim    zn  indus  chas    nox     rm   age     dis  rad  tax  \\\n",
      "0    0.00632  18.0   2.31     0  0.538  6.575  65.2  4.0900    1  296   \n",
      "1    0.02731   0.0   7.07     0  0.469  6.421  78.9  4.9671    2  242   \n",
      "2    0.02729   0.0   7.07     0  0.469  7.185  61.1  4.9671    2  242   \n",
      "3    0.03237   0.0   2.18     0  0.458  6.998  45.8  6.0622    3  222   \n",
      "4    0.06905   0.0   2.18     0  0.458  7.147  54.2  6.0622    3  222   \n",
      "..       ...   ...    ...   ...    ...    ...   ...     ...  ...  ...   \n",
      "501  0.06263   0.0  11.93     0  0.573  6.593  69.1  2.4786    1  273   \n",
      "502  0.04527   0.0  11.93     0  0.573  6.120  76.7  2.2875    1  273   \n",
      "503  0.06076   0.0  11.93     0  0.573  6.976  91.0  2.1675    1  273   \n",
      "504  0.10959   0.0  11.93     0  0.573  6.794  89.3  2.3889    1  273   \n",
      "505  0.04741   0.0  11.93     0  0.573  6.030  80.8  2.5050    1  273   \n",
      "\n",
      "     ptratio   black  lstat  medv  \n",
      "0       15.3  396.90   4.98  24.0  \n",
      "1       17.8  396.90   9.14  21.6  \n",
      "2       17.8  392.83   4.03  34.7  \n",
      "3       18.7  394.63   2.94  33.4  \n",
      "4       18.7  396.90   5.33  36.2  \n",
      "..       ...     ...    ...   ...  \n",
      "501     21.0  391.99   9.67  22.4  \n",
      "502     21.0  396.90   9.08  20.6  \n",
      "503     21.0  396.90   5.64  23.9  \n",
      "504     21.0  393.45   6.48  22.0  \n",
      "505     21.0  396.90   7.88  11.9  \n",
      "\n",
      "[506 rows x 14 columns]\n"
     ]
    }
   ],
   "source": [
    "import pandas as pd\n",
    "file_pathboston = r'G:\\EPICODE\\Appunti\\File Python\\08. W3D3 ESERCIZIO\\boston.csv'\n",
    "\n",
    "dbboston = pd.read_csv(file_pathboston)\n",
    "\n",
    "print(dbboston)"
   ]
  },
  {
   "cell_type": "code",
   "execution_count": 3,
   "metadata": {},
   "outputs": [
    {
     "name": "stdout",
     "output_type": "stream",
     "text": [
      "Media del valore MEDV per ciascun gruppo:\n",
      "chas\n",
      "0    22.093843\n",
      "1    28.440000\n",
      "Name: medv, dtype: float64\n"
     ]
    }
   ],
   "source": [
    "# • La media del prezzo delle case cambia a seconda della distanza dal fiume Charles? \n",
    "\n",
    "media_valore_casa = dbboston.groupby('chas')['medv'].mean()\n",
    "print(\"Media del valore MEDV per ciascun gruppo:\")\n",
    "print(media_valore_casa)"
   ]
  },
  {
   "cell_type": "code",
   "execution_count": 4,
   "metadata": {},
   "outputs": [
    {
     "name": "stdout",
     "output_type": "stream",
     "text": [
      "\n",
      "Statistiche dettagliate per ciascun gruppo:\n",
      "           mean         var  count\n",
      "chas                              \n",
      "0     22.093843   77.992962    471\n",
      "1     28.440000  139.633059     35\n"
     ]
    }
   ],
   "source": [
    "group_stats = dbboston.groupby('chas')['medv'].agg(['mean', 'var', 'count'])\n",
    "print(\"\\nStatistiche dettagliate per ciascun gruppo:\")\n",
    "print(group_stats)"
   ]
  },
  {
   "cell_type": "code",
   "execution_count": 5,
   "metadata": {},
   "outputs": [
    {
     "name": "stdout",
     "output_type": "stream",
     "text": [
      "Coefficiente di correlazione tra CRIM e MEDV: -0.39\n",
      "\n",
      "Prime righe del dataset ordinato per CRIM (tasso di criminalità):\n",
      "        crim  medv\n",
      "0    0.00632  24.0\n",
      "284  0.00906  32.2\n",
      "285  0.01096  22.0\n",
      "341  0.01301  32.7\n",
      "55   0.01311  35.4\n",
      "54   0.01360  18.9\n",
      "195  0.01381  50.0\n",
      "57   0.01432  31.6\n",
      "194  0.01439  29.1\n",
      "348  0.01501  24.5\n",
      "\n",
      "Prime righe del dataset ordinato per MEDV (valore delle abitazioni):\n",
      "         crim  medv\n",
      "398  38.35180   5.0\n",
      "405  67.92080   5.0\n",
      "400  25.04610   5.6\n",
      "399   9.91655   6.3\n",
      "489   0.18337   7.0\n",
      "414  45.74610   7.0\n",
      "385  16.81180   7.2\n",
      "415  18.08460   7.2\n",
      "401  14.23620   7.2\n",
      "387  22.59710   7.4\n",
      "\n",
      "Valori di CRIM e MEDV raggruppati in fasce di tasso di criminalità:\n",
      "crim_bin\n",
      "0-1      25.110843\n",
      "1-5      21.469118\n",
      "5-10     18.048077\n",
      "10-50    12.544000\n",
      "50+       9.800000\n",
      "Name: medv, dtype: float64\n"
     ]
    },
    {
     "name": "stderr",
     "output_type": "stream",
     "text": [
      "C:\\Users\\samee\\AppData\\Local\\Temp\\ipykernel_88276\\2706476275.py:16: FutureWarning: The default of observed=False is deprecated and will be changed to True in a future version of pandas. Pass observed=False to retain current behavior or observed=True to adopt the future default and silence this warning.\n",
      "  grouped = dbboston.groupby('crim_bin')['medv'].mean()\n"
     ]
    }
   ],
   "source": [
    "# • Si nota una correlazione tra il tasso di criminalità e il valore delle abitazioni? Come si può spiegare il risultato? \n",
    "correlation = dbboston['crim'].corr(dbboston['medv'])\n",
    "print(f\"Coefficiente di correlazione tra CRIM e MEDV: {correlation:.2f}\")\n",
    "\n",
    "print(\"\\nPrime righe del dataset ordinato per CRIM (tasso di criminalità):\")\n",
    "print(dbboston[['crim', 'medv']].sort_values(by='crim').head(10))\n",
    "\n",
    "print(\"\\nPrime righe del dataset ordinato per MEDV (valore delle abitazioni):\")\n",
    "print(dbboston[['crim', 'medv']].sort_values(by='medv').head(10))\n",
    "\n",
    "print(\"\\nValori di CRIM e MEDV raggruppati in fasce di tasso di criminalità:\")\n",
    "bins = [0, 1, 5, 10, 50, dbboston['crim'].max()]  # Fasce di CRIM\n",
    "labels = ['0-1', '1-5', '5-10', '10-50', '50+']      # Etichette per le fasce\n",
    "dbboston['crim_bin'] = pd.cut(dbboston['crim'], bins=bins, labels=labels)\n",
    "\n",
    "grouped = dbboston.groupby('crim_bin')['medv'].mean()\n",
    "print(grouped)"
   ]
  },
  {
   "cell_type": "code",
   "execution_count": 36,
   "metadata": {},
   "outputs": [
    {
     "name": "stdout",
     "output_type": "stream",
     "text": [
      "88.9762\n",
      "0.00632\n",
      "50.0\n",
      "5.0\n",
      "-0.3850639419942241\n"
     ]
    }
   ],
   "source": [
    "# • Qual è la media del numero di stanze rispetto al rapporto alunni-insegnanti? E del valore delle case? Appare esserci una qualche correlazione? Come si può spiegare il risultato? \n",
    "print(dbboston['crim'].max())\n",
    "print(dbboston['crim'].min())\n",
    "print(dbboston['medv'].max())\n",
    "print(dbboston['medv'].min())\n",
    "\n",
    "correlationcrimbalack = dbboston['crim'].corr(dbboston['black'])\n",
    "print(correlationcrimbalack)"
   ]
  },
  {
   "cell_type": "code",
   "execution_count": 27,
   "metadata": {},
   "outputs": [
    {
     "data": {
      "text/plain": [
       "<Axes: xlabel='crim', ylabel='medv'>"
      ]
     },
     "execution_count": 27,
     "metadata": {},
     "output_type": "execute_result"
    },
    {
     "data": {
      "image/png": "[encoded data removed]",
      "text/plain": [
       "<Figure size 640x480 with 1 Axes>"
      ]
     },
     "metadata": {},
     "output_type": "display_data"
    }
   ],
   "source": [
    "import matplotlib\n",
    "dbboston.plot.scatter('crim', 'medv', s=2)"
   ]
  },
  {
   "cell_type": "code",
   "execution_count": 34,
   "metadata": {},
   "outputs": [
    {
     "data": {
      "text/plain": [
       "<Axes: xlabel='rad', ylabel='rm'>"
      ]
     },
     "execution_count": 34,
     "metadata": {},
     "output_type": "execute_result"
    },
    {
     "data": {
      "image/png": "[encoded data removed]",
      "text/plain": [
       "<Figure size 640x480 with 1 Axes>"
      ]
     },
     "metadata": {},
     "output_type": "display_data"
    }
   ],
   "source": [
    "dbboston.plot.scatter('rad', 'rm', s=0.5)"
   ]
  },
  {
   "cell_type": "code",
   "execution_count": null,
   "metadata": {},
   "outputs": [],
   "source": [
    "# • Rispetto all'accessibilità alle autostrade, cambia qualcosa la media delle età delle abitazioni? E del numero di stanze? E delle tasse?"
   ]
  },
  {
   "cell_type": "code",
   "execution_count": null,
   "metadata": {},
   "outputs": [],
   "source": [
    "# 2 Abbiamo un DataFrame di dipendenti\n",
    "import pandas as pd\n",
    "employees_df = pd.DataFrame({ 'employee_id': [101, 102, 103, 104, 105], 'name': ['Alice', 'Bob', 'Charlie', 'David', 'Emma'], 'department_id': [1, 2, 1, 2, 3] })\n",
    "departments_df = pd.DataFrame({ 'department_id': [1, 2, 3], 'department_name': ['HR', 'IT', 'Finance'], 'location': ['New York', 'San Francisco', 'Chicago'] })\n",
    "\n",
    "\n",
    "\n",
    " \n",
    "\n",
    "\n"
   ]
  },
  {
   "cell_type": "code",
   "execution_count": 3,
   "metadata": {},
   "outputs": [
    {
     "name": "stdout",
     "output_type": "stream",
     "text": [
      "   employee_id     name  department_id department_name       location\n",
      "0          101    Alice              1              HR       New York\n",
      "1          102      Bob              2              IT  San Francisco\n",
      "2          103  Charlie              1              HR       New York\n",
      "3          104    David              2              IT  San Francisco\n",
      "4          105     Emma              3         Finance        Chicago\n"
     ]
    }
   ],
   "source": [
    "# • Unire questi DataFrame in base alla colonna comune department_id, in modo da avere nel risultato informazioni sia sui dipendenti che sui dipartimenti, usando la funzione .merge() \n",
    "\n",
    "merged_df = pd.merge(employees_df, departments_df, on='department_id', how='inner')\n",
    "print(merged_df)"
   ]
  },
  {
   "cell_type": "code",
   "execution_count": 11,
   "metadata": {},
   "outputs": [
    {
     "name": "stdout",
     "output_type": "stream",
     "text": [
      "               employee_id     name department_name       location\n",
      "department_id                                                     \n",
      "1                      101    Alice              HR       New York\n",
      "2                      102      Bob              IT  San Francisco\n",
      "1                      103  Charlie              HR       New York\n",
      "2                      104    David              IT  San Francisco\n",
      "3                      105     Emma         Finance        Chicago\n"
     ]
    }
   ],
   "source": [
    "# • Per ogni DataFrame, trasformare la colonna department_id nell'indice, facendo in modo che la modifica sia permanente; poi unire i due dataset mediante il metodo .join()\n",
    "\n",
    "employees_df.set_index('department_id', inplace=True)\n",
    "departments_df.set_index('department_id', inplace=True)\n",
    "\n",
    "# Unire i DataFrame utilizzando il metodo .join()\n",
    "merged_df = employees_df.join(departments_df)\n",
    "\n",
    "print(merged_df)"
   ]
  },
  {
   "cell_type": "code",
   "execution_count": null,
   "metadata": {},
   "outputs": [],
   "source": [
    "# • Ci sono differenze nel risultato? Quali? Perché?\n",
    "\n",
    "# Le differenze principali tra .merge() e .join() riguardano la posizione di department_id e la flessibilità.\n",
    "# Con .merge(), department_id è una colonna e puoi scegliere il tipo di unione (inner, left, etc.). Con .join(),\n",
    "# department_id è l'indice e l'unione è sempre sinistra per default. Inoltre, .merge() permette di unire su qualsiasi colonna,\n",
    "# mentre .join() funziona solo sugli indici. In sintesi, .merge() è più flessibile, mentre .join() è più semplice ma limitato."
   ]
  },
  {
   "cell_type": "code",
   "execution_count": 1,
   "metadata": {},
   "outputs": [
    {
     "name": "stdout",
     "output_type": "stream",
     "text": [
      "(296, 28)\n",
      "(39, 2)\n"
     ]
    }
   ],
   "source": [
    "# Esercizio \n",
    "# • Dal database AdventureWorksDW importiamo le tabelle dimemployee e dimemployeesalesterritory come DataFrame \n",
    "import os\n",
    "import dotenv\n",
    "import sqlalchemy\n",
    "import pandas as pd\n",
    "\n",
    "# Load environment variables from .env file\n",
    "dotenv.load_dotenv(override=True, dotenv_path=\".env\")\n",
    "\n",
    "# Get database credentials from environment variables\n",
    "username = os.getenv(\"username\")\n",
    "password = os.getenv(\"password\")\n",
    "host = os.getenv(\"host\")\n",
    "dbname = os.getenv(\"dbname\")\n",
    "\n",
    "# Build the connection string\n",
    "conn_string = f\"mysql+pymysql://{username}:{password}@{host}/{dbname}\"\n",
    "\n",
    "# Create SQLAlchemy engine\n",
    "db_engine = sqlalchemy.create_engine(conn_string)\n",
    "\n",
    "# Define the query\n",
    "query = \"SELECT * FROM dimemployee\"\n",
    "query2 = \"SELECT * FROM dimemployeesalesterritory\"\n",
    "# Execute the query and load the result into a DataFrame\n",
    "dimemployee = pd.read_sql(query, con=db_engine)\n",
    "dimemployee = pd.DataFrame(dimemployee)\n",
    "\n",
    "dimsaleterr = pd.read_sql(query2, con=db_engine)\n",
    "dimsaleterr = pd.DataFrame(dimsaleterr)\n",
    "# Display the DataFrame\n",
    "print(dimemployee.shape)\n",
    "print(dimsaleterr.shape)\n"
   ]
  },
  {
   "cell_type": "code",
   "execution_count": 2,
   "metadata": {},
   "outputs": [
    {
     "name": "stdout",
     "output_type": "stream",
     "text": [
      "(317, 29)\n"
     ]
    }
   ],
   "source": [
    "# • Effettuiamo un join tra i due DataFrame usando le colonne EmployeeKey \n",
    "\n",
    "db_merged = pd.merge(dimemployee, dimsaleterr, on=\"EmployeeKey\", how=\"left\")\n",
    "print(db_merged.shape)\n",
    "\n",
    "# • Controlliamo la dimensione del DataFrame risultante: è quella attesa? \n",
    "# SE FACCIAMO UNA INNER HO SOLO 39 RIGHE CON UNA LEFT AVREMO  317 righe "
   ]
  },
  {
   "cell_type": "code",
   "execution_count": null,
   "metadata": {},
   "outputs": [
    {
     "name": "stdout",
     "output_type": "stream",
     "text": [
      "Index(['EmployeeKey', 'ParentEmployeeKey', 'EmployeeNationalIDAlternateKey',\n",
      "       'ParentEmployeeNationalIDAlternateKey', 'FirstName', 'LastName',\n",
      "       'MiddleName', 'NameStyle', 'Title', 'HireDate', 'BirthDate', 'LoginID',\n",
      "       'EmailAddress', 'Phone', 'MaritalStatus', 'EmergencyContactName',\n",
      "       'EmergencyContactPhone', 'SalariedFlag', 'Gender', 'PayFrequency',\n",
      "       'BaseRate', 'VacationHours', 'SickLeaveHours', 'CurrentFlag',\n",
      "       'SalesPersonFlag', 'DepartmentName', 'EmployeePhoto', 'Position',\n",
      "       'SalesTerritoryKey', 'SalesTerritoryAlternateKey',\n",
      "       'SalesTerritoryRegion', 'SalesTerritoryCountry', 'SalesTerritoryGroup',\n",
      "       'SalesTerritoryImage'],\n",
      "      dtype='object')\n"
     ]
    }
   ],
   "source": [
    "# • Importiamo ora la tabella dimsalesterritory ed effettuiamo un join tra questa e il DataFrame risultante della join precedente,\n",
    "query3 = 'SELECT * FROM dimsalesterritory'\n",
    "dimsaleterritory = pd.read_sql(query3, con=db_engine)\n",
    "dimsaleterritory = pd.DataFrame(dimsaleterritory)\n",
    "# usando le colonne SalesTerritoryKey \n",
    "db_merged2 = pd.merge(db_merged, dimsaleterritory, on='SalesTerritoryKey', how='left')\n",
    "print(db_merged2.columns)\n"
   ]
  },
  {
   "cell_type": "code",
   "execution_count": null,
   "metadata": {},
   "outputs": [
    {
     "name": "stdout",
     "output_type": "stream",
     "text": [
      "SalesTerritoryCountry\n",
      "Australia          3\n",
      "Canada             4\n",
      "France             4\n",
      "Germany            3\n",
      "United Kingdom     3\n",
      "United States     10\n",
      "Name: EmployeeKey, dtype: int64\n",
      "SalesTerritoryRegion\n",
      "Australia         3\n",
      "Canada            4\n",
      "Central           5\n",
      "France            4\n",
      "Germany           3\n",
      "Northeast         3\n",
      "Northwest         5\n",
      "Southeast         4\n",
      "Southwest         5\n",
      "United Kingdom    3\n",
      "Name: EmployeeKey, dtype: int64\n"
     ]
    }
   ],
   "source": [
    "# • Su questo DataFrame contare quanti dipendenti ci sono per ogni paese (country) e per ogni regione (region) \n",
    "employee_count_country = db_merged2.groupby(['SalesTerritoryCountry'])['EmployeeKey'].nunique()\n",
    "employee_count_territory = db_merged2.groupby(['SalesTerritoryRegion'])['EmployeeKey'].nunique()\n",
    "print(employee_count_country)\n",
    "print(employee_count_territory)\n",
    "\n",
    "\n",
    "\n",
    "\n"
   ]
  },
  {
   "cell_type": "code",
   "execution_count": 13,
   "metadata": {},
   "outputs": [
    {
     "name": "stdout",
     "output_type": "stream",
     "text": [
      "SalesTerritoryCountry\n",
      "Australia         47.764433\n",
      "Canada            41.592550\n",
      "France            41.592550\n",
      "Germany           47.764433\n",
      "United Kingdom    47.764433\n",
      "United States     39.909309\n",
      "Name: BaseRate, dtype: float64\n"
     ]
    }
   ],
   "source": [
    "# • Valutiamo la media del BaseRate per ogni paese: ci sono differenze?\n",
    "\n",
    "country_baserate = db_merged2.groupby(['SalesTerritoryCountry'])['BaseRate'].mean()\n",
    "print(country_baserate)"
   ]
  },
  {
   "cell_type": "code",
   "execution_count": null,
   "metadata": {},
   "outputs": [],
   "source": []
  }
 ],
 "metadata": {
  "kernelspec": {
   "display_name": "Python 3",
   "language": "python",
   "name": "python3"
  },
  "language_info": {
   "codemirror_mode": {
    "name": "ipython",
    "version": 3
   },
   "file_extension": ".py",
   "mimetype": "text/x-python",
   "name": "python",
   "nbconvert_exporter": "python",
   "pygments_lexer": "ipython3",
   "version": "3.13.0"
  }
 },
 "nbformat": 4,
 "nbformat_minor": 2
}
