{
 "cells": [
  {
   "cell_type": "code",
   "execution_count": 18,
   "metadata": {},
   "outputs": [
    {
     "name": "stdout",
     "output_type": "stream",
     "text": [
      "     ProductKey ProductAlternateKey  ProductSubcategoryKey  \\\n",
      "0             1             AR-5381                    NaN   \n",
      "1             2             BA-8327                    NaN   \n",
      "2             3             BE-2349                    NaN   \n",
      "3             4             BE-2908                    NaN   \n",
      "4             5             BL-2036                    NaN   \n",
      "..          ...                 ...                    ...   \n",
      "601         602             BB-8107                    5.0   \n",
      "602         603             BB-9108                    5.0   \n",
      "603         604          BK-R19B-44                    2.0   \n",
      "604         605          BK-R19B-48                    2.0   \n",
      "605         606          BK-R19B-52                    2.0   \n",
      "\n",
      "    WeightUnitMeasureCode SizeUnitMeasureCode     EnglishProductName  \\\n",
      "0                    None                None        Adjustable Race   \n",
      "1                    None                None           Bearing Ball   \n",
      "2                    None                None        BB Ball Bearing   \n",
      "3                    None                None  Headset Ball Bearings   \n",
      "4                    None                None                  Blade   \n",
      "..                    ...                 ...                    ...   \n",
      "601                     G                None      ML Bottom Bracket   \n",
      "602                     G                None      HL Bottom Bracket   \n",
      "603                    LB                  CM     Road-750 Black, 44   \n",
      "604                    LB                  CM     Road-750 Black, 48   \n",
      "605                    LB                  CM     Road-750 Black, 52   \n",
      "\n",
      "            SpanishProductName           FrenchProductName  StandardCost  \\\n",
      "0                                                                    NaN   \n",
      "1                                                                    NaN   \n",
      "2                                                                    NaN   \n",
      "3                                                                    NaN   \n",
      "4                                                                    NaN   \n",
      "..                         ...                         ...           ...   \n",
      "601         Eje de pedalier GM          Axe de pédalier ML         44.95   \n",
      "602         Eje de pedalier GA          Axe de pédalier HL         53.94   \n",
      "603  Carretera: 750, negra, 44  Vélo de route 750 noir, 44        343.65   \n",
      "604  Carretera: 750, negra, 48  Vélo de route 750 noir, 48        343.65   \n",
      "605  Carretera: 750, negra, 52  Vélo de route 750 noir, 52        343.65   \n",
      "\n",
      "     FinishedGoodsFlag  ...                 ChineseDescription  \\\n",
      "0                    0  ...                               None   \n",
      "1                    0  ...                               None   \n",
      "2                    0  ...                               None   \n",
      "3                    0  ...                               None   \n",
      "4                    0  ...                               None   \n",
      "..                 ...  ...                                ...   \n",
      "601                  1  ...                      铝合金车圈；大直径脚蹬轴。   \n",
      "602                  1  ...                         铝合金车圈和空心轴。   \n",
      "603                  1  ...  入门级成人自行车；确保越野旅行或公路骑乘的舒适。快拆式车毂和轮缘。   \n",
      "604                  1  ...  入门级成人自行车；确保越野旅行或公路骑乘的舒适。快拆式车毂和轮缘。   \n",
      "605                  1  ...  入门级成人自行车；确保越野旅行或公路骑乘的舒适。快拆式车毂和轮缘。   \n",
      "\n",
      "                                     ArabicDescription  \\\n",
      "0                                                 None   \n",
      "1                                                 None   \n",
      "2                                                 None   \n",
      "3                                                 None   \n",
      "4                                                 None   \n",
      "..                                                 ...   \n",
      "601  فناجين من سبيكة الألومنيوم؛ ذات محور دوران كبي...   \n",
      "602             فناجين من سبيكة الألومنيوم ومحور أجوف.   \n",
      "603  إنها دراجة مناسبة للمبتدئين من البالغين؛ فهي ت...   \n",
      "604  إنها دراجة مناسبة للمبتدئين من البالغين؛ فهي ت...   \n",
      "605  إنها دراجة مناسبة للمبتدئين من البالغين؛ فهي ت...   \n",
      "\n",
      "                                     HebrewDescription  \\\n",
      "0                                                 None   \n",
      "1                                                 None   \n",
      "2                                                 None   \n",
      "3                                                 None   \n",
      "4                                                 None   \n",
      "..                                                 ...   \n",
      "601           כיסויים מסגסוגת אלומיניום; ציר רחב-קוטר.   \n",
      "602               כיסויים מסגסוגת אלומיניום וציר חלול.   \n",
      "603  אופני מבוגרים למתחילים; מציעים רכיבה נוחה \"מחו...   \n",
      "604  אופני מבוגרים למתחילים; מציעים רכיבה נוחה \"מחו...   \n",
      "605  אופני מבוגרים למתחילים; מציעים רכיבה נוחה \"מחו...   \n",
      "\n",
      "                                       ThaiDescription  \\\n",
      "0                                                 None   \n",
      "1                                                 None   \n",
      "2                                                 None   \n",
      "3                                                 None   \n",
      "4                                                 None   \n",
      "..                                                 ...   \n",
      "601              ดุมอลูมิเนียมอัลลอยด์ แกนเพลาขนาดใหญ่   \n",
      "602                   ดุมอลูมิเนียมอัลลอยด์และเพลากลวง   \n",
      "603  จักรยานระดับเริ่มต้นสำหรับผู้ใหญ่ ให้ความสบายใ...   \n",
      "604  จักรยานระดับเริ่มต้นสำหรับผู้ใหญ่ ให้ความสบายใ...   \n",
      "605  จักรยานระดับเริ่มต้นสำหรับผู้ใหญ่ ให้ความสบายใ...   \n",
      "\n",
      "                                     GermanDescription  \\\n",
      "0                                                 None   \n",
      "1                                                 None   \n",
      "2                                                 None   \n",
      "3                                                 None   \n",
      "4                                                 None   \n",
      "..                                                 ...   \n",
      "601  Außenringe aus Aluminiumlegierung; Radachse mi...   \n",
      "602  Außenringe aus Aluminiumlegierung und hohle Ac...   \n",
      "603  Ein Erwachsenenrad für Einsteiger; bietet Komf...   \n",
      "604  Ein Erwachsenenrad für Einsteiger; bietet Komf...   \n",
      "605  Ein Erwachsenenrad für Einsteiger; bietet Komf...   \n",
      "\n",
      "                                   JapaneseDescription  \\\n",
      "0                                                 None   \n",
      "1                                                 None   \n",
      "2                                                 None   \n",
      "3                                                 None   \n",
      "4                                                 None   \n",
      "..                                                 ...   \n",
      "601                               アルミニウム合金カップ、大径スピンドル。   \n",
      "602                              アルミニウム合金カップとホロー アクスル。   \n",
      "603  エントリー レベルに対応する、クロスカントリーにも街への買い物にも快適な、大人の自転車。ハブ...   \n",
      "604  エントリー レベルに対応する、クロスカントリーにも街への買い物にも快適な、大人の自転車。ハブ...   \n",
      "605  エントリー レベルに対応する、クロスカントリーにも街への買い物にも快適な、大人の自転車。ハブ...   \n",
      "\n",
      "                                    TurkishDescription  StartDate EndDate  \\\n",
      "0                                                 None 2003-07-01     NaT   \n",
      "1                                                 None 2003-07-01     NaT   \n",
      "2                                                 None 2003-07-01     NaT   \n",
      "3                                                 None 2003-07-01     NaT   \n",
      "4                                                 None 2003-07-01     NaT   \n",
      "..                                                 ...        ...     ...   \n",
      "601  Alüminyum alaşımı orta göbekler; geniş çaplı mil. 2013-07-01     NaT   \n",
      "602    Alüminyum alaşımı orta göbekler ve içi boş aks. 2013-07-01     NaT   \n",
      "603  \"Başlangıç seviyesinde yetişkin bisikleti, kır... 2013-07-01     NaT   \n",
      "604  \"Başlangıç seviyesinde yetişkin bisikleti, kır... 2013-07-01     NaT   \n",
      "605  \"Başlangıç seviyesinde yetişkin bisikleti, kır... 2013-07-01     NaT   \n",
      "\n",
      "      Status  \n",
      "0    Current  \n",
      "1    Current  \n",
      "2    Current  \n",
      "3    Current  \n",
      "4    Current  \n",
      "..       ...  \n",
      "601  Current  \n",
      "602  Current  \n",
      "603  Current  \n",
      "604  Current  \n",
      "605  Current  \n",
      "\n",
      "[606 rows x 36 columns]\n"
     ]
    }
   ],
   "source": [
    "# Esercizio Dal database AdventureWorks estraiamo la tabella dimproduct \n",
    "import os\n",
    "import dotenv\n",
    "import sqlalchemy\n",
    "import pandas as pd\n",
    "\n",
    "# Load environment variables from .env file\n",
    "dotenv.load_dotenv(override=True, dotenv_path=\".env\")\n",
    "\n",
    "# Get database credentials from environment variables\n",
    "username = os.getenv(\"username\")\n",
    "password = os.getenv(\"password\")\n",
    "host = os.getenv(\"host\")\n",
    "dbname = os.getenv(\"dbname\")\n",
    "\n",
    "# Build the connection string\n",
    "conn_string = f\"mysql+pymysql://{username}:{password}@{host}/{dbname}\"\n",
    "\n",
    "# Create SQLAlchemy engine\n",
    "db_engine = sqlalchemy.create_engine(conn_string)\n",
    "\n",
    "# Define the query\n",
    "query = \"SELECT * FROM dimproduct\"\n",
    "\n",
    "# Execute the query and load the result into a DataFrame\n",
    "db = pd.read_sql(query, con=db_engine)\n",
    "db = pd.DataFrame(db)\n",
    "# Display the DataFrame\n",
    "print(db)\n"
   ]
  },
  {
   "cell_type": "code",
   "execution_count": 19,
   "metadata": {},
   "outputs": [
    {
     "name": "stdout",
     "output_type": "stream",
     "text": [
      "0        NaN\n",
      "1        NaN\n",
      "2        NaN\n",
      "3        NaN\n",
      "4        NaN\n",
      "       ...  \n",
      "601     61.0\n",
      "602     73.0\n",
      "603    324.0\n",
      "604    324.0\n",
      "605    324.0\n",
      "Name: DealerPrice, Length: 606, dtype: float64\n",
      "0         NaN\n",
      "1         NaN\n",
      "2         NaN\n",
      "3         NaN\n",
      "4         NaN\n",
      "        ...  \n",
      "601     60.74\n",
      "602     72.89\n",
      "603    323.99\n",
      "604    323.99\n",
      "605    323.99\n",
      "Name: DealerPrice, Length: 606, dtype: float64\n"
     ]
    }
   ],
   "source": [
    "# • Sulla colonna DealerPrice, utilizzando il metodo .round(), arrotondiamo i valori alle due cifre decimali, e poi al valore intero più vicino \n",
    "\n",
    "print(db['DealerPrice'].round()) # INTERO PIU VICINO\n",
    "print(db['DealerPrice'].round(2)) # DUE CIFRE DECIMALI\n"
   ]
  },
  {
   "cell_type": "code",
   "execution_count": 20,
   "metadata": {},
   "outputs": [
    {
     "name": "stdout",
     "output_type": "stream",
     "text": [
      "0          NaN\n",
      "1          NaN\n",
      "2          NaN\n",
      "3          NaN\n",
      "4          NaN\n",
      "        ...   \n",
      "601     60.744\n",
      "602     72.894\n",
      "603    323.994\n",
      "604    323.994\n",
      "605    323.994\n",
      "Name: DealerPrice, Length: 606, dtype: float64\n"
     ]
    }
   ],
   "source": [
    "# • Utilizzando il metodo .clip(), facciamo in modo che i valori siano compresi tra un minimo di 0 e un massimo di 1000\n",
    "print(db['DealerPrice'].clip(lower=0 ,upper=1000)) \n"
   ]
  },
  {
   "cell_type": "code",
   "execution_count": 21,
   "metadata": {},
   "outputs": [
    {
     "name": "stdout",
     "output_type": "stream",
     "text": [
      "    Anno Mese  SommaCumulativa\n",
      "0      0    G             3700\n",
      "1      0    F             5083\n",
      "2      0    M             8709\n",
      "3      0    A            13279\n",
      "4      0    M            14203\n",
      "5      0    G            18796\n",
      "6      0    L            20226\n",
      "7      0    A            21796\n",
      "8      0    S            23611\n",
      "9      0    O            26638\n",
      "10     0    N            28963\n",
      "11     0    D            30507\n",
      "12     1    G            34577\n",
      "13     1    F            38479\n",
      "14     1    M            40241\n",
      "15     1    A            44273\n",
      "16     1    M            45354\n",
      "17     1    G            48867\n",
      "18     1    L            52191\n",
      "19     1    A            55582\n",
      "20     1    S            58130\n",
      "21     1    O            59831\n",
      "22     1    N            60641\n",
      "23     1    D            62042\n",
      "24     2    G            65756\n",
      "25     2    F            69606\n",
      "26     2    M            72104\n",
      "27     2    A            74187\n",
      "28     2    M            77308\n",
      "29     2    G            78973\n",
      "30     2    L            81515\n",
      "31     2    A            83689\n",
      "32     2    S            87801\n",
      "33     2    O            91161\n",
      "34     2    N            95629\n",
      "35     2    D            97813\n",
      "36     3    G           100289\n",
      "37     3    F           104002\n",
      "38     3    M           108447\n",
      "39     3    A           113267\n",
      "40     3    M           114323\n",
      "41     3    G           117388\n",
      "42     3    L           119907\n",
      "43     3    A           122241\n",
      "44     3    S           127023\n",
      "45     3    O           130213\n",
      "46     3    N           134229\n",
      "47     3    D           137842\n",
      "48     4    G           139846\n",
      "49     4    F           144617\n",
      "50     4    M           149433\n",
      "51     4    A           152759\n",
      "52     4    M           155754\n",
      "53     4    G           158191\n",
      "54     4    L           162679\n",
      "55     4    A           165668\n",
      "56     4    S           169215\n",
      "57     4    O           172231\n",
      "58     4    N           173480\n",
      "59     4    D           176875\n"
     ]
    }
   ],
   "source": [
    "# Esercizio Creiamo un DataFrame sintetico, che contiene i guadagni mensili di diverse annate, \n",
    "# con il seguente codice: \n",
    "import numpy as np\n",
    "years = 5 \n",
    "a = pd.DataFrame({\n",
    "    \"Mese\": list(\"GFMAMGLASOND\"*years),\n",
    "    \"Anno\": np.repeat(list(range(years)), 12),\n",
    "    \"Guadagni\": np.random.randint(800, 5000, 12*years)\n",
    "    }) \n",
    "# • Calcola la somma cumulativa delle vendite per ogni mese utilizzando il metodo .cumsum() \n",
    "a['SommaCumulativa'] = a['Guadagni'].cumsum()\n",
    "print(a[[\"Anno\",'Mese','SommaCumulativa']])\n",
    "\n"
   ]
  },
  {
   "cell_type": "code",
   "execution_count": 36,
   "metadata": {},
   "outputs": [
    {
     "name": "stdout",
     "output_type": "stream",
     "text": [
      "    Anno Mese  SommaCumulativaPerAnno\n",
      "0      0    G                    3700\n",
      "1      0    F                    5083\n",
      "2      0    M                    8709\n",
      "3      0    A                   13279\n",
      "4      0    M                   14203\n",
      "5      0    G                   18796\n",
      "6      0    L                   20226\n",
      "7      0    A                   21796\n",
      "8      0    S                   23611\n",
      "9      0    O                   26638\n",
      "10     0    N                   28963\n",
      "11     0    D                   30507\n",
      "12     1    G                    4070\n",
      "13     1    F                    7972\n",
      "14     1    M                    9734\n",
      "15     1    A                   13766\n",
      "16     1    M                   14847\n",
      "17     1    G                   18360\n",
      "18     1    L                   21684\n",
      "19     1    A                   25075\n",
      "20     1    S                   27623\n",
      "21     1    O                   29324\n",
      "22     1    N                   30134\n",
      "23     1    D                   31535\n",
      "24     2    G                    3714\n",
      "25     2    F                    7564\n",
      "26     2    M                   10062\n",
      "27     2    A                   12145\n",
      "28     2    M                   15266\n",
      "29     2    G                   16931\n",
      "30     2    L                   19473\n",
      "31     2    A                   21647\n",
      "32     2    S                   25759\n",
      "33     2    O                   29119\n",
      "34     2    N                   33587\n",
      "35     2    D                   35771\n",
      "36     3    G                    2476\n",
      "37     3    F                    6189\n",
      "38     3    M                   10634\n",
      "39     3    A                   15454\n",
      "40     3    M                   16510\n",
      "41     3    G                   19575\n",
      "42     3    L                   22094\n",
      "43     3    A                   24428\n",
      "44     3    S                   29210\n",
      "45     3    O                   32400\n",
      "46     3    N                   36416\n",
      "47     3    D                   40029\n",
      "48     4    G                    2004\n",
      "49     4    F                    6775\n",
      "50     4    M                   11591\n",
      "51     4    A                   14917\n",
      "52     4    M                   17912\n",
      "53     4    G                   20349\n",
      "54     4    L                   24837\n",
      "55     4    A                   27826\n",
      "56     4    S                   31373\n",
      "57     4    O                   34389\n",
      "58     4    N                   35638\n",
      "59     4    D                   39033\n"
     ]
    }
   ],
   "source": [
    "# • Come sopra, ma diviso per ogni anno\n",
    "a['SommaCumulativaPerAnno'] = a.groupby('Anno').Guadagni.cumsum()\n",
    "print(a[[\"Anno\",'Mese','SommaCumulativaPerAnno']])"
   ]
  },
  {
   "cell_type": "code",
   "execution_count": 37,
   "metadata": {},
   "outputs": [
    {
     "data": {
      "text/plain": [
       "<Axes: >"
      ]
     },
     "execution_count": 37,
     "metadata": {},
     "output_type": "execute_result"
    },
    {
     "data": {
      "image/png": "[encoded data removed]",
      "text/plain": [
       "<Figure size 640x480 with 1 Axes>"
      ]
     },
     "metadata": {},
     "output_type": "display_data"
    }
   ],
   "source": [
    "a.SommaCumulativaPerAnno.plot()"
   ]
  },
  {
   "cell_type": "code",
   "execution_count": 42,
   "metadata": {},
   "outputs": [
    {
     "data": {
      "text/plain": [
       "Anno\n",
       "0     30507\n",
       "1     62042\n",
       "2     97813\n",
       "3    137842\n",
       "4    176875\n",
       "Name: Guadagni, dtype: int64"
      ]
     },
     "execution_count": 42,
     "metadata": {},
     "output_type": "execute_result"
    }
   ],
   "source": [
    "a.groupby('Anno')['Guadagni'].sum().cumsum()"
   ]
  },
  {
   "cell_type": "code",
   "execution_count": 23,
   "metadata": {},
   "outputs": [],
   "source": [
    "# Esercizio 1\n",
    "# Dal database AdventureWorks estraiamo la tabella dimcustomer \n",
    "\n",
    "\n",
    "query2 = \"SELECT * FROM dimcustomer\"\n",
    "\n",
    "db_dimcustumer = pd.read_sql(query2, con=db_engine)\n",
    "db_dimcustumer = pd.DataFrame(db_dimcustumer)\n"
   ]
  },
  {
   "cell_type": "code",
   "execution_count": 24,
   "metadata": {},
   "outputs": [
    {
     "data": {
      "text/plain": [
       "Index(['CustomerKey', 'GeographyKey', 'CustomerAlternateKey', 'Title',\n",
       "       'FirstName', 'MiddleName', 'LastName', 'NameStyle', 'BirthDate',\n",
       "       'MaritalStatus', 'Suffix', 'Gender', 'EmailAddress', 'YearlyIncome',\n",
       "       'TotalChildren', 'NumberChildrenAtHome', 'EnglishEducation',\n",
       "       'SpanishEducation', 'FrenchEducation', 'EnglishOccupation',\n",
       "       'SpanishOccupation', 'FrenchOccupation', 'HouseOwnerFlag',\n",
       "       'NumberCarsOwned', 'AddressLine1', 'AddressLine2', 'Phone',\n",
       "       'DateFirstPurchase', 'CommuteDistance'],\n",
       "      dtype='object')"
      ]
     },
     "execution_count": 24,
     "metadata": {},
     "output_type": "execute_result"
    }
   ],
   "source": [
    "db_dimcustumer.columns"
   ]
  },
  {
   "cell_type": "code",
   "execution_count": 25,
   "metadata": {},
   "outputs": [
    {
     "name": "stdout",
     "output_type": "stream",
     "text": [
      "       FirstName MiddleName LastName\n",
      "0            jon          V     YANG\n",
      "1         eugene          L    HUANG\n",
      "2          ruben       None   TORRES\n",
      "3        christy       None      ZHU\n",
      "4      elizabeth       None  JOHNSON\n",
      "...          ...        ...      ...\n",
      "18479      tommy          L     TANG\n",
      "18480       nina          W     RAJI\n",
      "18481       ivan       None     SURI\n",
      "18482    clayton       None    ZHANG\n",
      "18483      jésus          L  NAVARRO\n",
      "\n",
      "[18484 rows x 3 columns]\n"
     ]
    }
   ],
   "source": [
    "# • Trasformiamo i nomi dei clienti in modo che abbiano solo lettere minuscole, e i cognomi in modo che abbiano solo lettere maiuscole \n",
    "\n",
    "db_dimcustumer['FirstName']= db_dimcustumer['FirstName'].str.lower()\n",
    "db_dimcustumer['LastName'] = db_dimcustumer['LastName'].str.upper()\n",
    "\n",
    "print(db_dimcustumer[['FirstName','MiddleName','LastName']])"
   ]
  },
  {
   "cell_type": "code",
   "execution_count": 26,
   "metadata": {},
   "outputs": [
    {
     "name": "stdout",
     "output_type": "stream",
     "text": [
      "         Username               Domain\n",
      "0           jon24  adventure-works.com\n",
      "1        eugene10  adventure-works.com\n",
      "2         ruben35  adventure-works.com\n",
      "3       christy12  adventure-works.com\n",
      "4      elizabeth5  adventure-works.com\n",
      "...           ...                  ...\n",
      "18479      tommy2  adventure-works.com\n",
      "18480      nina21  adventure-works.com\n",
      "18481       ivan0  adventure-works.com\n",
      "18482    clayton0  adventure-works.com\n",
      "18483      jésus9  adventure-works.com\n",
      "\n",
      "[18484 rows x 2 columns]\n"
     ]
    }
   ],
   "source": [
    "# • Sulla colonna EmailAddress, utilizzando il metodo .str.split(), estraiamo nome utente e dominio \n",
    "db_dimcustumer[['Username', 'Domain']] = db_dimcustumer['EmailAddress'].str.split('@',expand=True)\n",
    "print(db_dimcustumer[['Username', 'Domain']])"
   ]
  },
  {
   "cell_type": "code",
   "execution_count": 27,
   "metadata": {},
   "outputs": [
    {
     "name": "stdout",
     "output_type": "stream",
     "text": [
      "      CountryCode AreaCode LocalPart1 LocalPart2\n",
      "0               1       11        500   555-0162\n",
      "1               1       11        500   555-0110\n",
      "2               1       11        500   555-0184\n",
      "3               1       11        500   555-0162\n",
      "4               1       11        500   555-0131\n",
      "...           ...      ...        ...        ...\n",
      "18479           1       11        500   555-0136\n",
      "18480           1       11        500   555-0146\n",
      "18481           1       11        500   555-0144\n",
      "18482           1       11        500   555-0137\n",
      "18483           1       11        500   555-0141\n",
      "\n",
      "[18484 rows x 4 columns]\n"
     ]
    }
   ],
   "source": [
    "# • Sulla colonna Phone, estraiamo ogni parte del numero (ad es. da \"1 (11) 500 555-0162\" a [\"1\", \"(11)\", \"500\", \"555-0162\"]) \n",
    "import re\n",
    "def extract_phone_parts(phone):\n",
    "    pattern = r\"(\\d+) \\((\\d+)\\) (\\d+) ([\\d\\-]+)\"\n",
    "    match = re.match(pattern, phone)\n",
    "    return match.groups() if match else []\n",
    "\n",
    "db_dimcustumer['PhoneParts'] = db_dimcustumer['Phone'].apply(extract_phone_parts)\n",
    "db_dimcustumer[['CountryCode', 'AreaCode', 'LocalPart1', 'LocalPart2']] = pd.DataFrame(\n",
    "    db_dimcustumer['PhoneParts'].tolist(), index=db_dimcustumer.index\n",
    ")\n",
    "db_dimcustumer.drop(columns=['PhoneParts'], inplace=True)\n",
    "\n",
    "print(db_dimcustumer[['CountryCode', 'AreaCode', 'LocalPart1', 'LocalPart2']])"
   ]
  },
  {
   "cell_type": "code",
   "execution_count": 28,
   "metadata": {},
   "outputs": [
    {
     "name": "stdout",
     "output_type": "stream",
     "text": [
      "64          chase21@adventure-works.com\n",
      "118         alvin21@adventure-works.com\n",
      "130      caroline21@adventure-works.com\n",
      "163       gabriel21@adventure-works.com\n",
      "203          luis21@adventure-works.com\n",
      "                      ...              \n",
      "18337      hector21@adventure-works.com\n",
      "18365      cheryl21@adventure-works.com\n",
      "18435     stanley21@adventure-works.com\n",
      "18440      rafael21@adventure-works.com\n",
      "18480        nina21@adventure-works.com\n",
      "Name: EmailAddress, Length: 431, dtype: object\n"
     ]
    }
   ],
   "source": [
    "# • Utilizzando il metodo .str.contains(), estraiamo tutti gli indirizzi e-mail che contengono il numero \"21\"\n",
    "\n",
    "filter = db_dimcustumer['EmailAddress'].str.contains(\"21\",na=False)\n",
    "print(db_dimcustumer['EmailAddress'][filter])\n"
   ]
  },
  {
   "cell_type": "code",
   "execution_count": 43,
   "metadata": {},
   "outputs": [
    {
     "name": "stdout",
     "output_type": "stream",
     "text": [
      "1            eugene10@adventure-works.com\n",
      "10        jacquelyn20@adventure-works.com\n",
      "22            ethan20@adventure-works.com\n",
      "30          bethany10@adventure-works.com\n",
      "32           denise10@adventure-works.com\n",
      "                       ...               \n",
      "18395         lydia10@adventure-works.com\n",
      "18397        walter10@adventure-works.com\n",
      "18415         oscar20@adventure-works.com\n",
      "18418       lindsey10@adventure-works.com\n",
      "18428    kristopher20@adventure-works.com\n",
      "Name: EmailAddress, Length: 1042, dtype: object\n"
     ]
    }
   ],
   "source": [
    "# • Estraiamo tutti gli indirizzi e-mail che contengono il numero \"20\" oppure il numero \"10\" \n",
    "filter20 = db_dimcustumer['EmailAddress'].str.contains(\"20\",na=False)\n",
    "filter10 = db_dimcustumer['EmailAddress'].str.contains(\"10\",na=False)\n",
    "print(db_dimcustumer['EmailAddress'][filter20 |filter10 ])"
   ]
  },
  {
   "cell_type": "code",
   "execution_count": 30,
   "metadata": {},
   "outputs": [],
   "source": [
    "# • Calcolare la lunghezza di ogni indirizzo e-mail ed estrarre i dieci più lunghi e i dieci più corti \n"
   ]
  },
  {
   "cell_type": "code",
   "execution_count": 31,
   "metadata": {},
   "outputs": [],
   "source": [
    "# • Modificare il dominio degli indirizzi e-mail da \"adventure-works.com\" a \"aw-db.com\" mediante il metodo .str.replace() \n"
   ]
  },
  {
   "cell_type": "code",
   "execution_count": 32,
   "metadata": {},
   "outputs": [],
   "source": [
    "# • Dalla colonna AddressLine1 estraiamo tutti gli indirizzi che contengono la sottostringa \"Street\""
   ]
  },
  {
   "cell_type": "code",
   "execution_count": null,
   "metadata": {},
   "outputs": [
    {
     "name": "stdout",
     "output_type": "stream",
     "text": [
      "File con dati nulli : ['automobile.csv', 'elections.csv', 'france.csv', 'hepatitis.csv', 'house.csv', 'income.csv', 'mice.csv', 'nba.csv', 'pokemon.csv', 'population.csv', 'seeds.csv', 'traffic.csv', 'wikipedia.csv']\n"
     ]
    }
   ],
   "source": [
    "# Esercizio 1/2\n",
    "# Nel pacchetto os della standard library c'è la funzione os.listdir() \n",
    "# che permette di avere la lista dei nomi di file all'interno di una directory; \n",
    "# senza input di default li cerca nella directory di lavoro corrente, altrimenti si può passare un path per esaminare una \n",
    "# directory specifica, ad esempio os.listdir(\"mio_progetto/beginner_datasets/\")\n",
    "\n",
    "# • Nella directory dei beginner_datasets, quali sono i dataset che contengono dati nulli?\n",
    "\n",
    "# 1. Esercizio 2/2 Dovremo usare un ciclo for per esaminare tutti i nomi dei file 2. 3. 4. 5. 6. \n",
    "# Dovremo selezionare solo i nomi di file con estensione .csv (quindi usare un costrutto if) Nel corpo dovremo leggere di volta in volta il file in esame,\n",
    "# e caricarlo in un DataFrame con la funzione .read_csv() Sul DataFrame dovremo utilizzare il metodo .isna() per trovare la maschera booleana dei dati nulli\n",
    "# Dovremo contare i dati nulli, utilizzando .sum(); potremmo doverlo utilizzare più di una volta Dovremo stampare, o memorizzare in una list, solo i nomi dei file che contengono dati nulli\n",
    "import os\n",
    "import pandas as pd\n",
    "\n",
    "directory = (r\"G:\\\\EPICODE\\Appunti\\\\File Python\\\\09. W3D5 ESERCIZIO\\\\beginner_datasets\\\\\")\n",
    "files_nulls = []\n",
    "\n",
    "for file_name in os.listdir(directory):\n",
    "    if file_name.endswith('.csv') :\n",
    "        file_path = os.path.join(directory, file_name)\n",
    "\n",
    "        df = pd.read_csv(file_path)\n",
    "\n",
    "        if df.isna().sum().sum()> 0 :\n",
    "            #add to the list \n",
    "            files_nulls.append(file_name)\n",
    "\n",
    "print('File con dati nulli :' , files_nulls)"
   ]
  }
 ],
 "metadata": {
  "kernelspec": {
   "display_name": "Python 3",
   "language": "python",
   "name": "python3"
  },
  "language_info": {
   "codemirror_mode": {
    "name": "ipython",
    "version": 3
   },
   "file_extension": ".py",
   "mimetype": "text/x-python",
   "name": "python",
   "nbconvert_exporter": "python",
   "pygments_lexer": "ipython3",
   "version": "3.13.0"
  }
 },
 "nbformat": 4,
 "nbformat_minor": 2
}
