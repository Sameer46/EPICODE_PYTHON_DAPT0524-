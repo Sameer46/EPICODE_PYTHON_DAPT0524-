{
 "cells": [
  {
   "cell_type": "code",
   "execution_count": 1,
   "metadata": {},
   "outputs": [
    {
     "name": "stdout",
     "output_type": "stream",
     "text": [
      "7\n"
     ]
    }
   ],
   "source": [
    "# 1 Esercizio Abbiamo una lista di liste: \n",
    "# mat = [[0, 1, 2, 3, 4], [5, 6, 7, 8, 9], [10, 11, 12, 13, 14]] \n",
    "# Che tipo di struttura dati o matematica potrebbe rappresentare? \n",
    "# Notare che tutte le liste \"interne\" sono della stessa dimensione \n",
    "# Come facciamo per accedere ad un elemento in particolare?\n",
    "#Per accedere a un elemento specifico in una lista di liste come questa,\n",
    "#  dobbiamo fornire due indici:\n",
    "#Il primo indice indica la riga.\n",
    "# Il secondo indice indica la colonna all'interno di quella riga.\n",
    "\n",
    "mat = [[0, 1, 2, 3, 4], [5, 6, 7, 8, 9], [10, 11, 12, 13, 14]]\n",
    "x= 1\n",
    "y= 2\n",
    "\n",
    "print(mat[x][y])\n"
   ]
  },
  {
   "cell_type": "code",
   "execution_count": 14,
   "metadata": {},
   "outputs": [
    {
     "name": "stdout",
     "output_type": "stream",
     "text": [
      "3.141592653589793\n",
      "fattoriale\n",
      "120\n",
      "-1.0\n",
      "Seno di π/4: 0.7071067811865476\n",
      "Coseno di π/4: 0.7071067811865476\n",
      "Fattoriale di 6: 720\n",
      "Valore di pi greco: 3.141592653589793\n"
     ]
    }
   ],
   "source": [
    "\n",
    "# 2 Esercizio Importiamo il modulo math e proviamo a usare le funzioni \n",
    "# .sin() .cos() .factorial() e la variabile .pi la riconoscete?\n",
    "import math\n",
    "print(math.pi)\n",
    "\n",
    "n = 5\n",
    "print(\"fattoriale\")\n",
    "print(math.factorial(n))\n",
    "\n",
    "\n",
    "\n",
    "x = math.pi  # 180 gradi in radianti\n",
    "print(math.cos(x))  # Risultato: -1.0\n",
    "\n",
    "\n",
    "seno = math.sin(math.pi / 4)\n",
    "coseno = math.cos(math.pi / 4)\n",
    "\n",
    "# Calcolare il fattoriale di 6\n",
    "fattoriale = math.factorial(6)\n",
    "\n",
    "# Stampare i risultati\n",
    "print(\"Seno di π/4:\", seno)\n",
    "print(\"Coseno di π/4:\", coseno)\n",
    "print(\"Fattoriale di 6:\", fattoriale)\n",
    "print(\"Valore di pi greco:\", math.pi)"
   ]
  },
  {
   "cell_type": "code",
   "execution_count": 4,
   "metadata": {},
   "outputs": [
    {
     "name": "stdout",
     "output_type": "stream",
     "text": [
      "180.0\n"
     ]
    }
   ],
   "source": [
    "# 3 Esercizio Proviamo a eseguire math.degrees(math.pi) \n",
    "# Qual è e cosa significa il risultato? Per saperne di più su questa \n",
    "# funzione possiamo usare help(math.degrees)\n",
    "\n",
    "# serve per convertire un angolo espresso in radianti in gradi.\n",
    "import math\n",
    "\n",
    "print(math.degrees(math.pi) )\n",
    "\n",
    "\n"
   ]
  },
  {
   "cell_type": "code",
   "execution_count": 7,
   "metadata": {},
   "outputs": [
    {
     "name": "stdout",
     "output_type": "stream",
     "text": [
      "Il valore massimo e' 8150, nel mese di October)\n",
      "Il valore minimo e' 1280, nel mese di May)\n",
      "\n",
      "\n",
      "\n",
      "Vendite maggiori di 4999 oggetti:\n",
      "February: 5500 oggetti\n",
      "March: 7200 oggetti\n",
      "September: 6410 oggetti\n",
      "October: 8150 oggetti\n",
      "November: 7100 oggetti\n",
      "December: 5350 oggetti\n",
      "\n",
      "\n",
      "\n",
      "Vendite minori di 3000 oggetti:\n",
      "January: 2000 oggetti\n",
      "May: 1280 oggetti\n",
      "June: 1900 oggetti\n",
      "July: 2500 oggetti\n",
      "Media mensile delle vendite: 4634.17 oggetti\n"
     ]
    }
   ],
   "source": [
    "# 4 Esercizio L'azienda Object SpA ha creato una lista di quanti oggetti \n",
    "# ha venduto ogni mese nell'ultimo anno: \n",
    "# lst = [2000, 5500, 7200, 4320, 1280, 1900, 2500, 3900, 6410, 8150, 7100, 5350]\n",
    "# trasformiamola in un array NumPy (casting): lst = np.array(lst)\n",
    "# e rispondiamo alle domande del CEO della Object SpA: \n",
    "# • qual è stata la vendita massima mensile? E quella minima? \n",
    "# • quali sono le vendite mensili maggiori di 4999 oggetti? E quante ne sono? \n",
    "# • quali sono le vendite minori di 3000 oggetti? \n",
    "# 5 • in media quanti oggetti sono stati venduti al mese?\n",
    "\n",
    "import numpy as np\n",
    "\n",
    "lst = [2000, 5500, 7200, 4320, 1280, 1900, 2500, 3900, 6410, 8150, 7100, 5350]\n",
    "\n",
    "\n",
    "months = [\"January\", \"February\", \"March\", \"April\", \"May\", \"June\", \"July\", \"August\", \"September\", \"October\", \"November\", \"December\"]\n",
    "\n",
    "\n",
    "list_month = [(months[i], lst[i]) for i in range(len(months))]\n",
    "\n",
    "#converto array in np array\n",
    "\n",
    "nparray= np.array([value for month, value in list_month])\n",
    "\n",
    "max_value= np.max(nparray)\n",
    "max_month_index= np.argmax(nparray)\n",
    "max_month = months[max_month_index]\n",
    "\n",
    "\n",
    "min_value = np.min(nparray)\n",
    "min_month_index=  np.argmin(nparray)\n",
    "min_month = months[min_month_index]\n",
    "\n",
    "# 1. Filtrare vendite maggiori di 4999 usando NumPy\n",
    "mask_maggiori_4999 = nparray > 4999\n",
    "vendite_maggiori_4999 = [list_month[i] for i in range(len(list_month)) if mask_maggiori_4999[i]]\n",
    "\n",
    "#2 Filtro vendite minori di 3000 \n",
    "mask_maggiori_3000 = nparray <3000\n",
    "vendite_minori_3000= [ list_month[i] for i in range(len(list_month)) if mask_maggiori_3000[i]]\n",
    "\n",
    "media_vendite_mensili = np.mean(nparray)\n",
    "\n",
    "\n",
    "\n",
    "print(f\"Il valore massimo e' {max_value}, nel mese di {max_month})\")\n",
    "print(f\"Il valore minimo e' {min_value}, nel mese di {min_month})\")\n",
    "print(\"\")\n",
    "print(\"\")\n",
    "print(\"\")\n",
    "print(\"Vendite maggiori di 4999 oggetti:\")\n",
    "for month, valori in vendite_maggiori_4999:\n",
    "    print(f\"{month}: {valori} oggetti\")\n",
    "print(\"\")\n",
    "print(\"\")\n",
    "print(\"\")\n",
    "print(\"Vendite minori di 3000 oggetti:\")\n",
    "for month, valori in vendite_minori_3000:\n",
    "    print(f\"{month}: {valori} oggetti\")\n",
    "\n",
    "\n",
    "print(f\"Media mensile delle vendite: {media_vendite_mensili:.2f} oggetti\")"
   ]
  },
  {
   "cell_type": "code",
   "execution_count": 2,
   "metadata": {},
   "outputs": [
    {
     "name": "stdout",
     "output_type": "stream",
     "text": [
      "   Anno  Fatturato\n",
      "7  2004      21000\n",
      "6  2003      14000\n",
      "5  2002      17000\n",
      "4  2001      25000\n",
      "3  2000      23000\n",
      "2  1999      20000\n",
      "1  1998      15000\n",
      "0  1997      12000\n"
     ]
    }
   ],
   "source": [
    "# 5 Esercizio Consideriamo il seguente dizionario: \n",
    "# fatturati_dict = {1997: 12_000, 1998: 15_000, 1999: 20_000, 2000: 23_000, 2001: 25_000, 2002: 17_000, 2003: 14_000, 2004: 21_000} \n",
    "# Consideriamo ora la seguente Series: fatturati_series = pd.Series([12_000, 15_000, 20_000, 23_000, 25_000, 17_000, 14_000, 21_000], \n",
    "# index=range(1997, 2005)) Possiamo accedere alle stesse informazioni nello \n",
    "# stesso modo: fatturati_dict[1997] fatturati_series[1997] Dunque qual è la \n",
    "# differenza tra i due tipi di dato? Cosa potremmo fare con la Series che non \n",
    "# possiamo fare con il dizionario?\n",
    "\n",
    "import pandas as pd\n",
    "\n",
    "fatturati_dict = {1997: 12_000, 1998: 15_000, 1999: 20_000, 2000: 23_000, 2001: 25_000, 2002: 17_000, 2003: 14_000, 2004: 21_000} \n",
    "fatturati_series = pd.Series([12_000, 15_000, 20_000, 23_000, 25_000, 17_000, 14_000, 21_000],index=range(1997, 2005))\n",
    "\n",
    "#sono simili ma sulla serie di pandas io posso effeturare operazione aggiunitve come \n",
    "# somma .sum .mean mentre su dict non posso effetturare queste opeazioni\n",
    "# posso effetuare anche il filtro come su numpy fatturati_series[ fatturati_series > 20000]\n",
    "\n",
    "# usiamo list() perche stiamo operando su un dizionario e .item() permette di accedere facilmente a tutte le coppie di chiavi \n",
    "# columns ci permette di assegnare il nome alle colonne \n",
    "fatturati_df = pd.DataFrame(list(fatturati_dict.items()), columns=['Anno', 'Fatturato'])\n",
    "# .set_index ci permette di riordinarle in ordine tempolare\n",
    "\n",
    "fatturati_df.sort_index(ascending=False, inplace=True)\n",
    "#fatturati_df.set_index('Anno', inplace=True) chiede se metto false funziona, (viene creata una nuova variabile sorted)\n",
    "#pd.set_option('display.colheader_justify', 'left')  \n",
    "\n",
    "print(fatturati_df)"
   ]
  },
  {
   "cell_type": "code",
   "execution_count": 52,
   "metadata": {},
   "outputs": [
    {
     "name": "stdout",
     "output_type": "stream",
     "text": [
      "Stipendi raddopiati tramire l'uso del ciclo for  [ 200  400  600  800 1000 1200 1400 1600 1800 2000]\n",
      "Stipendi raddopaito con il masking  [ 200  400  600  800 1000 1200 1400 1600 1800 2000]\n"
     ]
    }
   ],
   "source": [
    "# 6 Esercizio L'azienda Object SpA ha un dataset con tutti gli stipendi dei \n",
    "# dipendenti, memorizzato in un ndarray: import numpy as np \n",
    "# stipendi = np.array( [100, 200, 300, 400, 500,  600, 700, 800, 900, 1000] ) \n",
    "# L'azienda ci chiede di raddoppiare tutti gli stipendi; facciamolo in due modi:\n",
    "# • con un ciclo for 7 \n",
    "# • con il masking\n",
    "\n",
    "import numpy as np\n",
    "\n",
    "stipendi = np.array( [100, 200, 300, 400, 500,  600, 700, 800, 900, 1000] ) \n",
    "stipendi_old= np.copy(stipendi)\n",
    "stipendi_masking = np.copy(stipendi) #cosi non fanno riferimento allo stesso oggetto in memoria\n",
    "\n",
    "for i in range(len(stipendi)):\n",
    "    stipendi[i]= stipendi[i]*2\n",
    "\n",
    "\n",
    "stipendi_masking*= 2\n",
    "\n",
    "print(\"Stipendi raddopiati tramire l'uso del ciclo for \",stipendi)\n",
    "print(\"Stipendi raddopaito con il masking \",stipendi_masking)\n",
    "\n",
    "\n"
   ]
  },
  {
   "cell_type": "code",
   "execution_count": null,
   "metadata": {},
   "outputs": [],
   "source": []
  }
 ],
 "metadata": {
  "kernelspec": {
   "display_name": "Python 3",
   "language": "python",
   "name": "python3"
  },
  "language_info": {
   "codemirror_mode": {
    "name": "ipython",
    "version": 3
   },
   "file_extension": ".py",
   "mimetype": "text/x-python",
   "name": "python",
   "nbconvert_exporter": "python",
   "pygments_lexer": "ipython3",
   "version": "3.13.0"
  }
 },
 "nbformat": 4,
 "nbformat_minor": 2
}
