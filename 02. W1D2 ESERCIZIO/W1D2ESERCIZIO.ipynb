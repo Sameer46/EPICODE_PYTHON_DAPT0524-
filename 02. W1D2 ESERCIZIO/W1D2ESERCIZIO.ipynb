{
 "cells": [
  {
   "cell_type": "code",
   "execution_count": 1,
   "metadata": {},
   "outputs": [
    {
     "name": "stdout",
     "output_type": "stream",
     "text": [
      "Andiamo al Supermercato\n",
      "Prendere il carrello\n",
      "Trovare sale nel supermercato\n",
      "Mettere sale nel carello\n",
      "Trovare uova nel supermercato\n",
      "Mettere uova nel carello\n",
      "Trovare pasta nel supermercato\n",
      "Mettere pasta nel carello\n",
      "Andare alla cassa\n",
      "Pagare\n",
      "Tornare a casa\n"
     ]
    }
   ],
   "source": [
    "\n",
    "lista_spesa = [\"sale\", \"uova\", \"pasta\"]\n",
    "\n",
    "print(\"Andiamo al Supermercato\")\n",
    "\n",
    "print(\"Prendere il carrello\")\n",
    "\n",
    "for articolo in lista_spesa:\n",
    "    print(f\"Trovare {articolo} nel supermercato\")\n",
    "\n",
    "    print(f\"Mettere {articolo} nel carello\")\n",
    "\n",
    "print(\"Andare alla cassa\")\n",
    "\n",
    "print(\"Pagare\")\n",
    "\n",
    "print(\"Tornare a casa\")"
   ]
  },
  {
   "cell_type": "code",
   "execution_count": 3,
   "metadata": {},
   "outputs": [
    {
     "name": "stdout",
     "output_type": "stream",
     "text": [
      "La classe è composta da 25 studenti\n",
      "La classe è composta da 28 studenti\n"
     ]
    }
   ],
   "source": [
    "studenti = 25\n",
    "print(f\"La classe è composta da {studenti} studenti\")\n",
    "studenti += 3\n",
    "print(f\"La classe è composta da {studenti} studenti\")\n"
   ]
  },
  {
   "cell_type": "code",
   "execution_count": 14,
   "metadata": {},
   "outputs": [
    {
     "name": "stdout",
     "output_type": "stream",
     "text": [
      "Il numero totale di studenti è 28\n"
     ]
    }
   ],
   "source": [
    "studenti= 25\n",
    "\n",
    "nuovistudenti= 3\n",
    "\n",
    "totale_studenti = studenti + nuovistudenti\n",
    "\n",
    "print(f\"Il numero totale di studenti è {totale_studenti}\")"
   ]
  },
  {
   "cell_type": "code",
   "execution_count": null,
   "metadata": {},
   "outputs": [],
   "source": [
    "\n",
    "testo = \"Epicode\"\n"
   ]
  },
  {
   "cell_type": "code",
   "execution_count": 4,
   "metadata": {},
   "outputs": [
    {
     "name": "stdout",
     "output_type": "stream",
     "text": [
      "Il risultato finale (metodo 1) è 36\n",
      "Il risultato finale (metodo 2) è 36\n"
     ]
    }
   ],
   "source": [
    "#5 Esercizio Abbiamo la variabile: x = 10 Incrementarla di\n",
    "# 2 e poi moltiplicarla per 3 Usare due metodi diversi (ad esempio,\n",
    "# uno utilizzando gli operatori di assegnazione, e uno senza)\n",
    "\n",
    "x= 10\n",
    "x+= 2\n",
    "x*=3\n",
    "print(f\"Il risultato finale (metodo 1) è {x}\")\n",
    "\n",
    "\n",
    "\n",
    "# Secondo metodo \n",
    "y = 10\n",
    "y = y + 2\n",
    "y = y * 3\n",
    "\n",
    "print(f\"Il risultato finale (metodo 2) è {x}\")"
   ]
  },
  {
   "cell_type": "code",
   "execution_count": 5,
   "metadata": {},
   "outputs": [
    {
     "name": "stdout",
     "output_type": "stream",
     "text": [
      "str1 ('Windows') ha una lunghezza tra 5 e 8? True\n",
      "str2 ('Excel') ha una lunghezza tra 5 e 8? True\n",
      "str3 ('Powerpoint') ha una lunghezza tra 5 e 8? False\n",
      "str4 ('Word') ha una lunghezza tra 5 e 8? False\n"
     ]
    }
   ],
   "source": [
    "\n",
    "#Esercizio Verificare, per ognuna delle seguenti stringhe,\n",
    "#  se il numero di caratteri è compreso tra 5 e 8: \n",
    "# • str1 = \"Windows\" • str2 = \"Excel\" • str3 = \"Powerpoint\" • str4 = \"Word\"\n",
    "\n",
    "\n",
    "str1 = \"Windows\"\n",
    "str2 = \"Excel\"\n",
    "str3 = \"Powerpoint\"\n",
    "str4 = \"Word\"\n",
    "\n",
    "def verifica_lunghezza(stringa):\n",
    "    return 5 <= len(stringa) <= 8\n",
    "\n",
    "print(f\"str1 ('{str1}') ha una lunghezza tra 5 e 8? {verifica_lunghezza(str1)}\")\n",
    "print(f\"str2 ('{str2}') ha una lunghezza tra 5 e 8? {verifica_lunghezza(str2)}\")\n",
    "print(f\"str3 ('{str3}') ha una lunghezza tra 5 e 8? {verifica_lunghezza(str3)}\")\n",
    "print(f\"str4 ('{str4}') ha una lunghezza tra 5 e 8? {verifica_lunghezza(str4)}\")"
   ]
  },
  {
   "cell_type": "code",
   "execution_count": 7,
   "metadata": {},
   "outputs": [
    {
     "name": "stdout",
     "output_type": "stream",
     "text": [
      "La stringa 'Windows' ha una lunghezza tra 5 e 8 caratteri: True\n",
      "La stringa 'Excel' ha una lunghezza tra 5 e 8 caratteri: True\n",
      "La stringa 'Powerpoint' ha una lunghezza tra 5 e 8 caratteri: False\n",
      "La stringa 'Word' ha una lunghezza tra 5 e 8 caratteri: False\n"
     ]
    }
   ],
   "source": [
    "array = [\"Windows\", \"Excel\", \"Powerpoint\", \"Word\"]\n",
    "\n",
    "for parole in array:\n",
    "    if 5 <= len(parole) <= 8:\n",
    "        print(f\"La stringa '{parole}' ha una lunghezza tra 5 e 8 caratteri: True\")\n",
    "    else:\n",
    "        print(f\"La stringa '{parole}' ha una lunghezza tra 5 e 8 caratteri: False\")"
   ]
  },
  {
   "cell_type": "code",
   "execution_count": 9,
   "metadata": {},
   "outputs": [
    {
     "name": "stdout",
     "output_type": "stream",
     "text": [
      "Ci sono 31536000 secondi in un anno non bisestile.\n"
     ]
    }
   ],
   "source": [
    "print(f\"Ci sono {365 * 24 * 60 * 60} secondi in un anno non bisestile.\")"
   ]
  },
  {
   "cell_type": "code",
   "execution_count": 8,
   "metadata": {},
   "outputs": [
    {
     "name": "stdout",
     "output_type": "stream",
     "text": [
      "Ci sono 31536000 secondi in un anno non bisestile.\n"
     ]
    }
   ],
   "source": [
    "giorni_in_un_anno = 365\n",
    "ore_in_un_giorno = 24\n",
    "minuti_in_un_ora = 60\n",
    "secondi_in_un_minuto = 60\n",
    "\n",
    "secondi_in_un_anno = giorni_in_un_anno * ore_in_un_giorno * minuti_in_un_ora * secondi_in_un_minuto\n",
    "print(f\"Ci sono {secondi_in_un_anno} secondi in un anno non bisestile.\")"
   ]
  },
  {
   "cell_type": "code",
   "execution_count": 12,
   "metadata": {},
   "outputs": [
    {
     "name": "stdout",
     "output_type": "stream",
     "text": [
      "Maiuscolo: I AM STUDYING PYTHON \n",
      "Minuscolo: i am studying python \n",
      "Sostituzione: I am studying a lot \n",
      "Stringa con strip: I am studying Python\n",
      "Originale: 'I am studying Python '\n",
      "Dopo strip: 'I am studying Python'\n"
     ]
    }
   ],
   "source": [
    "\n",
    "my_string = \"I am studying Python \"\n",
    "\n",
    "\n",
    "uppercase_string = my_string.upper()\n",
    "print(\"Maiuscolo:\", uppercase_string)\n",
    "\n",
    "lowercase_string = my_string.lower()\n",
    "print(\"Minuscolo:\", lowercase_string)\n",
    "\n",
    "replaced_string = my_string.replace(\"Python\", \"a lot\")\n",
    "print(\"Sostituzione:\", replaced_string)\n",
    "\n",
    "stripped_string = my_string.strip()\n",
    "print(\"Stringa con strip:\", stripped_string)\n",
    "\n",
    "\n",
    "print(\"Originale:\", repr(my_string))\n",
    "print(\"Dopo strip:\", repr(stripped_string))"
   ]
  }
 ],
 "metadata": {
  "kernelspec": {
   "display_name": "Python 3",
   "language": "python",
   "name": "python3"
  },
  "language_info": {
   "codemirror_mode": {
    "name": "ipython",
    "version": 3
   },
   "file_extension": ".py",
   "mimetype": "text/x-python",
   "name": "python",
   "nbconvert_exporter": "python",
   "pygments_lexer": "ipython3",
   "version": "3.13.0"
  }
 },
 "nbformat": 4,
 "nbformat_minor": 2
}
