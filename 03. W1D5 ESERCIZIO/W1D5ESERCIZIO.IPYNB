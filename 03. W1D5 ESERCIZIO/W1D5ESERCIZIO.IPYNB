{
 "cells": [
  {
   "cell_type": "code",
   "execution_count": 12,
   "metadata": {},
   "outputs": [
    {
     "name": "stdout",
     "output_type": "stream",
     "text": [
      "I primi 10 numeri di fibonacci sono [1, 1, 3] \n",
      "I primi 10 numeri di fibonacci sono [1, 1, 3, 6] \n",
      "I primi 10 numeri di fibonacci sono [1, 1, 3, 6, 12] \n",
      "I primi 10 numeri di fibonacci sono [1, 1, 3, 6, 12, 24] \n",
      "I primi 10 numeri di fibonacci sono [1, 1, 3, 6, 12, 24, 48] \n",
      "I primi 10 numeri di fibonacci sono [1, 1, 3, 6, 12, 24, 48, 96] \n",
      "I primi 10 numeri di fibonacci sono [1, 1, 3, 6, 12, 24, 48, 96, 192] \n",
      "I primi 10 numeri di fibonacci sono [1, 1, 3, 6, 12, 24, 48, 96, 192, 384] \n"
     ]
    }
   ],
   "source": [
    "numero1= 1\n",
    "numero2= 2\n",
    "\n",
    "fibo = [1,1]\n",
    "conteggio= 3\n",
    "while conteggio <=10:\n",
    "       prossimo_numero= numero1+numero2\n",
    "       fibo.append(prossimo_numero)\n",
    "       numero2=prossimo_numero\n",
    "       numero1=numero2\n",
    "       conteggio+=1\n",
    "       print(f\"I primi 10 numeri di fibonacci sono {fibo} \" )"
   ]
  },
  {
   "cell_type": "code",
   "execution_count": 13,
   "metadata": {},
   "outputs": [
    {
     "name": "stdout",
     "output_type": "stream",
     "text": [
      "I primi 10 numeri di fibonacci sono [1, 1, 3] \n",
      "I primi 10 numeri di fibonacci sono [1, 1, 3, 5] \n",
      "I primi 10 numeri di fibonacci sono [1, 1, 3, 5, 8] \n",
      "I primi 10 numeri di fibonacci sono [1, 1, 3, 5, 8, 13] \n",
      "I primi 10 numeri di fibonacci sono [1, 1, 3, 5, 8, 13, 21] \n",
      "I primi 10 numeri di fibonacci sono [1, 1, 3, 5, 8, 13, 21, 34] \n",
      "I primi 10 numeri di fibonacci sono [1, 1, 3, 5, 8, 13, 21, 34, 55] \n",
      "I primi 10 numeri di fibonacci sono [1, 1, 3, 5, 8, 13, 21, 34, 55, 89] \n"
     ]
    }
   ],
   "source": [
    "numero1= 1\n",
    "numero2= 2\n",
    "\n",
    "fibo = [1,1]\n",
    "conteggio= 3\n",
    "while conteggio <=10:\n",
    "       prossimo_numero= numero1+numero2\n",
    "       fibo.append(prossimo_numero)\n",
    "       numero1=numero2\n",
    "       numero2=prossimo_numero\n",
    "       conteggio+=1\n",
    "       print(f\"I primi 10 numeri di fibonacci sono {fibo} \" )"
   ]
  },
  {
   "cell_type": "code",
   "execution_count": 11,
   "metadata": {},
   "outputs": [
    {
     "name": "stdout",
     "output_type": "stream",
     "text": [
      "Nessun Pareggio per l'ultima partita\n",
      "['1', 'X', '1', '2', 'X', 'X', '2']\n"
     ]
    }
   ],
   "source": [
    "risultati_partite = [\"1\",\"X\",\"1\",\"2\",\"X\",\"X\"]\n",
    "risultati_partite.append(\"2\")\n",
    "if risultati_partite[-1] == \"X\":\n",
    "        print(\"l'ultima partita e' finita in pareggio\")\n",
    "else:\n",
    "        print(\"Nessun Pareggio per l'ultima partita\")\n",
    "\n",
    "print(risultati_partite)"
   ]
  },
  {
   "cell_type": "code",
   "execution_count": null,
   "metadata": {},
   "outputs": [
    {
     "name": "stdout",
     "output_type": "stream",
     "text": [
      "E !\n",
      "p !\n",
      "i !\n",
      "c !\n",
      "o !\n",
      "d !\n",
      "e !\n"
     ]
    }
   ],
   "source": [
    "# Esercizio Abbiamo la stringa: \n",
    "# nome_scuola = \"Epicode\" Stampare ogni carattere della stringa, \n",
    "# uno su ogni riga, utilizzando un costrutto while.\n",
    "nome_scuola = \"Epicode\"\n",
    "i=0\n",
    "while i< len(nome_scuola):\n",
    "    print(nome_scuola[i] + \" !\")\n",
    "    i +=1"
   ]
  },
  {
   "cell_type": "code",
   "execution_count": 14,
   "metadata": {},
   "outputs": [
    {
     "name": "stdout",
     "output_type": "stream",
     "text": [
      "0\n",
      "1\n",
      "2\n",
      "3\n",
      "4\n",
      "5\n",
      "6\n",
      "7\n",
      "8\n",
      "9\n",
      "10\n",
      "11\n",
      "12\n",
      "13\n",
      "14\n",
      "15\n",
      "16\n",
      "17\n",
      "18\n",
      "19\n",
      "20\n"
     ]
    }
   ],
   "source": [
    "#Esercizio Stampare a video tutti i numeri da 0 a 20 \n",
    "# utilizzando il costrutto while. Utilizzeremo: \n",
    "# • un ciclo while • la funzione print() \n",
    "# • una variabile, che dovrà essere inizializzata \n",
    "# • una procedura di incremento\n",
    "\n",
    "i = 0\n",
    "\n",
    "\n",
    "while i <= 20:\n",
    "    print(i)     \n",
    "    i += 1  "
   ]
  },
  {
   "cell_type": "code",
   "execution_count": null,
   "metadata": {},
   "outputs": [
    {
     "name": "stdout",
     "output_type": "stream",
     "text": [
      "1\n",
      "2\n",
      "4\n",
      "8\n",
      "16\n",
      "32\n",
      "64\n",
      "128\n",
      "256\n",
      "512\n"
     ]
    }
   ],
   "source": [
    "# Esercizio Calcolare e stampare tutte le prime 10 potenze di 2 \n",
    "# (e.g., 2⁰, 2¹, 2², …) utilizzando un ciclo while\n",
    "i=0\n",
    "numero = 2\n",
    "while i<10:\n",
    "      print(numero**i)\n",
    "      i+=1"
   ]
  },
  {
   "cell_type": "code",
   "execution_count": 17,
   "metadata": {},
   "outputs": [
    {
     "name": "stdout",
     "output_type": "stream",
     "text": [
      "1\n",
      "2\n",
      "4\n"
     ]
    }
   ],
   "source": [
    "# Esercizio Calcolare e stampare tutte le prime N potenze \n",
    "# di 2 utilizzando un ciclo while, domandando all'utente di inserire N.\n",
    "\n",
    "n = input()\n",
    "i = 0\n",
    "while i <= int(n):\n",
    "      print(2**i)\n",
    "      i+=1"
   ]
  },
  {
   "cell_type": "code",
   "execution_count": null,
   "metadata": {},
   "outputs": [
    {
     "name": "stdout",
     "output_type": "stream",
     "text": [
      "cia...tai\n"
     ]
    }
   ],
   "source": [
    "# 7 Esercizio Scriviamo un programma che chiede in input\n",
    "# all'utente una stringa e visualizza i primi 3 caratteri, \n",
    "# seguiti da 3 punti di sospensione e quindi gli ultimi 3 caratteri, \n",
    "# similmente all'esercizio della lezione scorsa. Stavolta facciamo attenzione \n",
    "# a tutti i casi particolari, ovvero implementare soluzioni ad hoc per stringhe \n",
    "# di lunghezza inferiore a 6 caratteri.\n",
    "\n",
    "stringa = input()\n",
    "\n",
    "print(stringa[0:3], stringa[-3:], sep=\"...\")"
   ]
  },
  {
   "cell_type": "code",
   "execution_count": 1,
   "metadata": {},
   "outputs": [
    {
     "name": "stdout",
     "output_type": "stream",
     "text": [
      "Fattori primi: [2, 2, 2, 5, 5]\n"
     ]
    }
   ],
   "source": [
    "# 8 Esercizio Memorizza e stampa tutti i fattori di un numero dato in input.\n",
    "# Esempio: • input: 150 • output: [2, 3, 5, 5]\n",
    "\n",
    "def trova_fattori_primi(n):\n",
    "    fattori = []\n",
    "    # Inizia dividendo per 2 per trovare tutti i fattori di 2\n",
    "    while n % 2 == 0:\n",
    "        fattori.append(2)\n",
    "        n = n // 2\n",
    "    \n",
    "    # Ora cerca i fattori dispari\n",
    "    for i in range(3, int(n**0.5) + 1, 2):\n",
    "        while n % i == 0:\n",
    "            fattori.append(i)\n",
    "            n = n // i\n",
    "\n",
    "    # Se n è un numero primo maggiore di 2, aggiungilo alla lista\n",
    "    if n > 2:\n",
    "        fattori.append(n)\n",
    "    \n",
    "    return fattori\n",
    "\n",
    "# Input dall'utente\n",
    "numero = int(input(\"Inserisci un numero: \"))\n",
    "print(\"Fattori primi:\", trova_fattori_primi(numero))"
   ]
  },
  {
   "cell_type": "code",
   "execution_count": 5,
   "metadata": {},
   "outputs": [
    {
     "name": "stdout",
     "output_type": "stream",
     "text": [
      "E\n",
      "p\n",
      "i\n",
      "c\n",
      "o\n",
      "d\n",
      "e\n"
     ]
    }
   ],
   "source": [
    "# 9 Esercizio Abbiamo la stringa: \n",
    "# nome_scuola = \"Epicode\" Stampare ogni carattere della stringa,\n",
    "# uno su ogni riga, utilizzando un costrutto for\n",
    "\n",
    "nome_scuola = \"Epicode\"\n",
    "\n",
    "for lettera in nome_scuola:\n",
    "    print(lettera)"
   ]
  },
  {
   "cell_type": "code",
   "execution_count": 1,
   "metadata": {},
   "outputs": [
    {
     "name": "stdout",
     "output_type": "stream",
     "text": [
      "1\n",
      "2\n",
      "4\n",
      "8\n",
      "16\n",
      "32\n",
      "64\n",
      "128\n",
      "256\n",
      "512\n",
      "1024\n"
     ]
    }
   ],
   "source": [
    "# 10 Esercizio Calcolare e stampare tutte le prime 10 potenze di 2 \n",
    "# utilizzando un ciclo. Utilizzeremo: • un ciclo per generare i primi 10 numeri,\n",
    "# e.g.: range_numerico = list()  # init num = 1  \n",
    "# # init while num <= 10: range_numerico.append(num) num += 1\n",
    "\n",
    "range_numerico = list() \n",
    "num = 0  \n",
    "potenza = int(input())\n",
    "while num <= 10: \n",
    "    risultato = potenza**num\n",
    "    print(risultato)\n",
    "    range_numerico.append(num) \n",
    "    num += 1"
   ]
  },
  {
   "cell_type": "code",
   "execution_count": 2,
   "metadata": {},
   "outputs": [
    {
     "name": "stdout",
     "output_type": "stream",
     "text": [
      "[1, 10]\n",
      "[1, 10]\n"
     ]
    }
   ],
   "source": [
    "# 11 Esercizio Calcolare (ma non stampare) le prime N potenze di K;\n",
    "# ognuna di esse andrà memorizzata in coda a una lista. \n",
    "# Alla fine, stampare la lista risultante. \n",
    "# Proviamo con diversi valori di K, oppure facciamola inserire all'utente. \n",
    "# Realizzare due versioni: • con un ciclo while, • con un ciclo for.\n",
    "\n",
    "k = int(input(\"inserisci il numero per le quali vuoi le potenze\"))\n",
    "n = int(input(\"quante potenze vuoi ?\"))\n",
    "range_while = list()\n",
    "rangefor = list()\n",
    "i = 0 \n",
    "\n",
    "while i < n:\n",
    "    risultato = k**i\n",
    "    range_while.append(risultato)\n",
    "    i+=1\n",
    "\n",
    "print(range_while)\n",
    "\n",
    "\n",
    "\n",
    "for x in range(n):\n",
    "    risultatox = k ** x\n",
    "    rangefor.append(risultatox)\n",
    "\n",
    "print(rangefor)"
   ]
  },
  {
   "cell_type": "code",
   "execution_count": 2,
   "metadata": {},
   "outputs": [
    {
     "name": "stdout",
     "output_type": "stream",
     "text": [
      "La media dei guadagni è: 70.0\n"
     ]
    }
   ],
   "source": [
    "# 12 Esercizio Abbiamo una lista con i guadagni degli ultimi 12 mesi:\\\n",
    "# guadagni = [100, 90, 70, 40, 50, 80, 90, 120, 80, 20, 50, 50] \n",
    "# usando un costrutto for, calcolare la media dei guadagni e stamparla a video.\n",
    "    \n",
    "\n",
    "guadagni = [100, 90, 70, 40, 50, 80, 90, 120, 80, 20, 50, 50] \n",
    "somma = 0\n",
    "for mese in guadagni:\n",
    "    somma += mese\n",
    "\n",
    "mesi_di_lavoro = len(guadagni)\n",
    "media = somma / mesi_di_lavoro\n",
    "\n",
    "print(f\"La media dei guadagni è: {media}\")\n"
   ]
  },
  {
   "cell_type": "code",
   "execution_count": 3,
   "metadata": {},
   "outputs": [
    {
     "name": "stdout",
     "output_type": "stream",
     "text": [
      "nella Albergo la lettera e appare 1 volte\n",
      "nella Sedia la lettera e appare 1 volte\n",
      "nella Borgo la lettera e appare 0 volte\n",
      "nella Petalo la lettera e appare 1 volte\n",
      "nella Eremo la lettera e appare 2 volte\n",
      "nella Belvedere la lettera e appare 4 volte\n",
      "nella Semestre la lettera e appare 3 volte\n",
      "nella Esteta la lettera e appare 2 volte\n",
      "nella Sosta la lettera e appare 0 volte\n",
      "nella Orpello la lettera e appare 1 volte\n",
      "nella Abete la lettera e appare 2 volte\n",
      "nella Orologio la lettera e appare 0 volte\n",
      "nella Cesta la lettera e appare 1 volte\n",
      "nella Ermellino la lettera e appare 2 volte\n"
     ]
    }
   ],
   "source": [
    "# 13 Esercizio Abbiamo una lista di parole: \n",
    "# parole = [\"Albergo\", \"Sedia\", \"Borgo\", \"Petalo\", \"Eremo\", \"Belvedere\", \"Semestre\", \"Esteta\", \"Sosta\", \"Orpello\", \"Abete\", \"Orologio\", \"Cesta\", \"Ermellino\"] \n",
    "# stampiamo, per ogni parola, quante volte appare la lettera \"e\"; \n",
    "# facciamo attenzione al fatto che appare sia maiuscola che minuscola.\n",
    "\n",
    "parole = [\"Albergo\", \"Sedia\", \"Borgo\", \"Petalo\", \"Eremo\", \"Belvedere\", \"Semestre\", \"Esteta\", \"Sosta\", \"Orpello\", \"Abete\", \"Orologio\", \"Cesta\", \"Ermellino\"] \n",
    "\n",
    "for parola in parole:\n",
    "    count_e = parola.lower().count('e')\n",
    "    print(f\"nella {parola} la lettera e appare {count_e} volte\")"
   ]
  },
  {
   "cell_type": "code",
   "execution_count": 8,
   "metadata": {},
   "outputs": [
    {
     "name": "stdout",
     "output_type": "stream",
     "text": [
      "107\n",
      "107\n"
     ]
    }
   ],
   "source": [
    "# 14 Esercizio Creiamo un dizionario che assegni ad ogni proprietario la sua auto, \n",
    "# sapendo che:\n",
    "# • Ada guida una Punto \n",
    "# • Ben guida una Multipla \n",
    "# • Charlie guida una Golf \n",
    "# • Debbie guida una 107 Stampiamo il dizionario per intero, \n",
    "# e poi l'auto associata a Debbie.\n",
    "\n",
    "db = [{\"nome\":\"Ada\", \"auto\" :\"Punto\"},\n",
    "        {\"nome\":\"Ben\", \"auto\" :\"Multipla\"},\n",
    "        {\"nome\":\"Charlie\", \"auto\" :\"Golf\"},\n",
    "        {\"nome\":\"Debbie\", \"auto\" :\"107\"}]\n",
    "trovato = False\n",
    "\n",
    "for auto in db:\n",
    "    if auto['nome']=='Debbie':\n",
    "        print(auto[\"auto\"])\n",
    "        trovato = True\n",
    "        break\n",
    "\n",
    "\n",
    "if not trovato:\n",
    "    print(\"Debbie non e' presente\")\n",
    "\n",
    "\n",
    "\n",
    "dizionario_auto = {\"Ada\": \"Punto\", \"Ben\": \"Multipla\", \"Charlie\": \"Golf\", \"Debbie\": \"107\"} \n",
    "\n",
    "if \"Debbie\" in dizionario_auto:\n",
    "    print(dizionario_auto[\"Debbie\"])\n",
    "else:\n",
    "    print(\"Debbie non trovata.\")\n"
   ]
  },
  {
   "cell_type": "code",
   "execution_count": 9,
   "metadata": {},
   "outputs": [
    {
     "name": "stdout",
     "output_type": "stream",
     "text": [
      "Punto\n",
      "Golf\n",
      "107\n"
     ]
    }
   ],
   "source": [
    "# 15 Esercizio Abbiamo un dizionario che assegna ad ogni proprietario \n",
    "# la sua auto: \n",
    "# dizionario_auto = {\"Ada\": \"Punto\", \"Ben\": \"Multipla\", \"Charlie\": \"Golf\", \"Debbie\": \"107\"} \n",
    "# Con un ciclo, e usando il metodo .values(), stampiamo a video tutte le auto che non sono una Multipla.\n",
    "\n",
    "dizionario_auto = {\"Ada\": \"Punto\", \"Ben\": \"Multipla\", \"Charlie\": \"Golf\", \"Debbie\": \"107\"} \n",
    "\n",
    "for auto in dizionario_auto.values():\n",
    "    if auto != \"Multipla\":\n",
    "        print(auto)\n"
   ]
  },
  {
   "cell_type": "code",
   "execution_count": 10,
   "metadata": {},
   "outputs": [
    {
     "name": "stdout",
     "output_type": "stream",
     "text": [
      "il dizionario prima dell'aggiornamento {'Ada': 'Punto', 'Ben': 'Multipla', 'Charlie': 'Golf', 'Debbie': '107', 'Emily': 'A1'}\n",
      "il dizionario dopo l-aggiornamento {'Ada': 'Punto', 'Ben': 'Polo', 'Charlie': 'Golf', 'Debbie': '107', 'Emily': 'A1', 'Fred': 'Octavia', 'Grace': 'Yaris', 'Hugh': 'Clio'}\n"
     ]
    }
   ],
   "source": [
    "\n",
    "# 16 Esercizio Abbiamo due dizionari che assegnano ad ogni proprietario la \n",
    "# propria auto: \n",
    "# dizionario_auto = {\"Ada\": \"Punto\", \"Ben\": \"Multipla\", \"Charlie\": \"Golf\", \"Debbie\": \"107\", \"Emily\": \"A1\"} \n",
    "# nuovi_proprietari = {\"Ben\": \"Polo\", \"Fred\": \"Octavia\", \"Grace\": \"Yaris\", \"Hugh\": \"Clio\"}\n",
    "# Aggiornare il dizionario dizionario_auto con i dati contenuti in nuovi_proprietari e stamparlo. Cosa è successo a Ben?\n",
    "\n",
    "\n",
    "dizionario_auto = {\"Ada\": \"Punto\", \"Ben\": \"Multipla\", \"Charlie\": \"Golf\", \"Debbie\": \"107\", \"Emily\": \"A1\"}\n",
    "nuovi_proprietari = {\"Ben\": \"Polo\", \"Fred\": \"Octavia\", \"Grace\": \"Yaris\", \"Hugh\": \"Clio\"}\n",
    "\n",
    "print(f\"il dizionario prima dell'aggiornamento {dizionario_auto}\")\n",
    "dizionario_auto.update(nuovi_proprietari)\n",
    "\n",
    "print(f\"il dizionario dopo l-aggiornamento {dizionario_auto}\")"
   ]
  },
  {
   "cell_type": "code",
   "execution_count": 11,
   "metadata": {},
   "outputs": [
    {
     "name": "stdout",
     "output_type": "stream",
     "text": [
      "Minimo: 5\n",
      "Massimo: 20\n"
     ]
    }
   ],
   "source": [
    "# 17 Esercizio Scrivere un programma che, data una lista di numeri,\n",
    "# fornisca in output il minimo e il massimo (possiamo usare o meno le \n",
    "# funzioni built-in min() e max()).\n",
    "\n",
    "numeri = [10, 5, 20, 8, 15]\n",
    "\n",
    "minimo = numeri[0]\n",
    "massimo = numeri[0]  \n",
    "\n",
    "for numero in numeri:\n",
    "    if numero < minimo:\n",
    "        minimo = numero\n",
    "    if numero > massimo:\n",
    "        massimo = numero\n",
    "\n",
    "\n",
    "print(f\"Minimo: {minimo}\")\n",
    "print(f\"Massimo: {massimo}\")"
   ]
  },
  {
   "cell_type": "code",
   "execution_count": 12,
   "metadata": {},
   "outputs": [
    {
     "name": "stdout",
     "output_type": "stream",
     "text": [
      "I tre numeri più grandi sono: [20, 15, 10]\n"
     ]
    }
   ],
   "source": [
    "\n",
    "# 18 Esercizio Scrivere un programma che, data una lista di numeri, \n",
    "# fornisca in output i tre numeri più grandi; gestire il caso in cui la \n",
    "# lista sia più corta di tre, e quando uno o più dei numeri selezionati sono uguali.\n",
    "\n",
    "numeri = [10, 5, 20, 8, 15, 20, 10]\n",
    "\n",
    "\n",
    "numeri_ordinati = sorted(numeri, reverse=True)\n",
    "\n",
    "\n",
    "numeri_unici = []\n",
    "for num in numeri_ordinati:\n",
    "    if num not in numeri_unici:\n",
    "        numeri_unici.append(num)\n",
    "    if len(numeri_unici) == 3:\n",
    "        break\n",
    "\n",
    "# Gestire il caso in cui la lista ha meno di 3 numeri\n",
    "if len(numeri_unici) < 3:\n",
    "    print(f\"I numeri più grandi (fino a 3) sono: {numeri_unici}\")\n",
    "else:\n",
    "    print(f\"I tre numeri più grandi sono: {numeri_unici}\")"
   ]
  },
  {
   "cell_type": "code",
   "execution_count": null,
   "metadata": {},
   "outputs": [
    {
     "name": "stdout",
     "output_type": "stream",
     "text": [
      "La lista deve contenere almeno 3 numeri.\n"
     ]
    }
   ],
   "source": [
    "numeri_input = input(\"Inserisci una lista di numeri separati da spazio: \")\n",
    "\n",
    "# Convertiamo l'input in una lista di numeri interi\n",
    "numeri = list(map(int, numeri_input.split()))\n",
    "\n",
    "# Verifica che ci siano almeno 3 numeri\n",
    "if len(numeri) < 3:\n",
    "    print(\"La lista deve contenere almeno 3 numeri.\")\n",
    "else:\n",
    "    quanti_numeri = int(input(\"Quanti numeri vuoi selezionare? (deve essere almeno 3): \"))\n",
    "    \n",
    "    if quanti_numeri > len(numeri):\n",
    "        print(f\"Ci sono solo {len(numeri)} numeri nella lista. Verranno selezionati tutti.\")\n",
    "        quanti_numeri = len(numeri)\n",
    "    \n",
    "    numeri_ordinati = sorted(numeri, reverse=True)\n",
    "    \n",
    "    numeri_unici = []\n",
    "    for num in numeri_ordinati:\n",
    "        if num not in numeri_unici:\n",
    "            numeri_unici.append(num)\n",
    "        if len(numeri_unici) == quanti_numeri:\n",
    "            break\n",
    "    \n",
    "    # Stampiamo il risultato\n",
    "    print(f\"I {quanti_numeri} numeri più grandi sono: {numeri_unici}\")"
   ]
  },
  {
   "cell_type": "code",
   "execution_count": 5,
   "metadata": {},
   "outputs": [
    {
     "name": "stdout",
     "output_type": "stream",
     "text": [
      "La lista deve contenere almeno 3 numeri unici. Riprova.\n",
      "La lista deve contenere almeno 3 numeri unici. Riprova.\n",
      "I 3 numeri più grandi sono: [40, 30, 20]\n"
     ]
    }
   ],
   "source": [
    "# 18 Esercizio Scrivere un programma che, data una lista di numeri, \n",
    "# fornisca in output i tre numeri più grandi; gestire il caso in cui la \n",
    "# lista sia più corta di tre, e quando uno o più dei numeri selezionati sono uguali.\n",
    "\n",
    "def get_valid_input():\n",
    "    # Loop until the user enters a valid list of 3 or more numbers\n",
    "    while True:\n",
    "        numeri_input = input(\"Inserisci una lista di numeri separati da spazio: \")\n",
    "        \n",
    "        # Convertiamo l'input in una lista di numeri interi\n",
    "        numeri = list(map(int, numeri_input.split()))\n",
    "        \n",
    "        # Creiamo una lista con i numeri unici\n",
    "        numeri_unici = list(set(numeri))\n",
    "        \n",
    "        # Se ci sono almeno 3 numeri unici, esci dal ciclo\n",
    "        if len(numeri_unici) >= 3:\n",
    "            return numeri\n",
    "        else:\n",
    "            print(\"La lista deve contenere almeno 3 numeri unici. Riprova.\")\n",
    "\n",
    "def get_top_numbers(numeri, quanti_numeri):\n",
    "    # Ordinare la lista in ordine decrescente\n",
    "    numeri_ordinati = sorted(numeri, reverse=True)\n",
    "    \n",
    "    # Prendere i primi 'quanti_numeri' numeri più grandi, evitando duplicati\n",
    "    numeri_unici = []\n",
    "    for num in numeri_ordinati:\n",
    "        if num not in numeri_unici:\n",
    "            numeri_unici.append(num)\n",
    "        if len(numeri_unici) == quanti_numeri:\n",
    "            break\n",
    "\n",
    "    return numeri_unici\n",
    "\n",
    "# Main program\n",
    "numeri = get_valid_input()  # Chiamata alla funzione per ottenere un input valido\n",
    "\n",
    "# Chiediamo quanti numeri vogliono selezionare\n",
    "while True:\n",
    "    try:\n",
    "        quanti_numeri = int(input(\"Quanti numeri vuoi selezionare? (deve essere almeno 3): \"))\n",
    "        if quanti_numeri < 3:\n",
    "            print(\"Devi selezionare almeno 3 numeri.\")\n",
    "        else:\n",
    "            break\n",
    "    except ValueError:\n",
    "        print(\"Per favore, inserisci un numero valido.\")\n",
    "\n",
    "# Selezioniamo i numeri più grandi\n",
    "numeri_unici = get_top_numbers(numeri, quanti_numeri)\n",
    "\n",
    "# Gestiamo il caso in cui ci sono meno numeri unici rispetto a quelli richiesti\n",
    "if len(numeri_unici) < quanti_numeri:\n",
    "    print(f\"Ci sono meno di {quanti_numeri} numeri unici. I numeri più grandi unici sono: {numeri_unici}\")\n",
    "else:\n",
    "    print(f\"I {quanti_numeri} numeri più grandi sono: {numeri_unici}\")"
   ]
  },
  {
   "cell_type": "code",
   "execution_count": 21,
   "metadata": {},
   "outputs": [
    {
     "name": "stdout",
     "output_type": "stream",
     "text": [
      "La media dei numeri maggiori o uguali a 22 è: 51.55555555555556\n"
     ]
    }
   ],
   "source": [
    "# 19 Esercizio Scrivere un programma che \n",
    "# • in input acquisisce una lista di numeri e un numero K \n",
    "# • in output, dovrà restituire la media di tutti i numeri nella lista \n",
    "# maggiori o uguali a K • se non ce ne dovesse essere nessuno,\n",
    "# dovrà stampare a schermo un messaggio adeguato.\n",
    "\n",
    "numeri_input = input(\"Inserisci una lista di numeri separati da spazio: \")\n",
    "numeri = list(map(int, numeri_input.split()))  # Converting the string input into a list of integers\n",
    "\n",
    "# Input the value K\n",
    "K = int(input(\"Inserisci il numero K: \"))\n",
    "\n",
    "# Filter the list for numbers >= K\n",
    "numeri_filtrati = [num for num in numeri if num >= K]\n",
    "\n",
    "# Check if there are any numbers greater than or equal to K\n",
    "if numeri_filtrati:\n",
    "    # Calculate the average of the filtered numbers\n",
    "    media = sum(numeri_filtrati) / len(numeri_filtrati)\n",
    "    print(f\"La media dei numeri maggiori o uguali a {K} è: {media}\")\n",
    "else:\n",
    "    # If no numbers are >= K, print an appropriate message\n",
    "    print(f\"Non ci sono numeri maggiori o uguali a {K} nella lista.\")"
   ]
  },
  {
   "cell_type": "code",
   "execution_count": 2,
   "metadata": {},
   "outputs": [
    {
     "name": "stdout",
     "output_type": "stream",
     "text": [
      "*****\n",
      "**\n",
      "***\n",
      "****\n"
     ]
    }
   ],
   "source": [
    "# 20 Esercizio Scrivere un programma che, data una lista di numeri, \n",
    "# come output stamperà lo stesso numero di asterischi su righe diverse, \n",
    "# ottenendo una semplice visualizzazione grafica Esempio, \n",
    "# supponendo di avere il seguente input: numeri = [5, 2, 3, 4] \n",
    "# L'output sarà: ***** ** *** ****   \n",
    "numeri = [5, 2, 3, 4]\n",
    "for numero in numeri:\n",
    "     print('*' * numero)"
   ]
  },
  {
   "cell_type": "code",
   "execution_count": 1,
   "metadata": {},
   "outputs": [
    {
     "name": "stdout",
     "output_type": "stream",
     "text": [
      "Codici fiscali che contengono '95':\n",
      "['ABCDEF95G01A123B', 'STUVWX95Z04A654E', 'DEFGHI95J06A987G']\n",
      "Codice Fiscale: ABCDEF95G01A123B -> Cognome: ABC, Nome: DEF\n",
      "Codice Fiscale: STUVWX95Z04A654E -> Cognome: STU, Nome: VWX\n",
      "Codice Fiscale: DEFGHI95J06A987G -> Cognome: DEF, Nome: GHI\n"
     ]
    }
   ],
   "source": [
    "# 21 Esercizio Abbiamo una lista di codici fiscali: \n",
    "# lista_cf = [\"ABCDEF95G01A123B\", \"GHIJKL91M02A321C\", \"MNOPQR89S03A456D\", \"STUVWX95Z04A654E\", \"XYZABC01D05A789F\", \"DEFGHI95J06A987G\"]\n",
    "# • trovare i codici fiscali che contengono \"95\", metterli in una lista, e alla fine stamparla; \n",
    "# • inoltre, per ognuno di essi, stampare a video i caratteri relativi al nome e quelli relativi al cognome.\n",
    "\n",
    "lista_cf = [\"ABCDEF95G01A123B\", \"GHIJKL91M02A321C\", \"MNOPQR89S03A456D\", \"STUVWX95Z04A654E\", \"XYZABC01D05A789F\", \"DEFGHI95J06A987G\"]\n",
    "\n",
    "cf_95=[]\n",
    "\n",
    "for cf in lista_cf:\n",
    "    if \"95\" in cf:\n",
    "        cf_95.append(cf)\n",
    "\n",
    "print(\"Codici fiscali che contengono '95':\")\n",
    "print(cf_95)\n",
    "\n",
    "\n",
    "for cf in cf_95:\n",
    "    cognome = cf[:3]  # I primi 3 caratteri sono il cognome\n",
    "    nome = cf[3:6]  # I successivi 3 caratteri sono il nome\n",
    "    print(f\"Codice Fiscale: {cf} -> Cognome: {cognome}, Nome: {nome}\")\n"
   ]
  },
  {
   "cell_type": "code",
   "execution_count": 5,
   "metadata": {},
   "outputs": [
    {
     "name": "stdout",
     "output_type": "stream",
     "text": [
      "Alex\n",
      "Faith\n",
      "  studente          corsi  edizioni\n",
      "0     Alex  Cybersecurity         1\n",
      "1      Bob   Data Analyst         2\n",
      "2    Cindy        Backend         3\n",
      "3      Dan       Frontend         2\n",
      "4     Emma   Data Analyst         2\n",
      "5    Faith        Backend         1\n",
      "6    Grace       Frontend         3\n",
      "7    Henry  Cybersecurity         3\n"
     ]
    }
   ],
   "source": [
    "# 22 Esercizio Abbiamo tre liste della stessa lunghezza, dove ogni elemento nella\n",
    "# medesima posizione si riferisce ai dati dello stesso studente: \n",
    "# studenti = [\"Alex\", \"Bob\", \"Cindy\", \"Dan\", \"Emma\", \"Faith\", \"Grace\", \"Henry\"] \n",
    "# corsi = [\"Cybersecurity\", \"Data Analyst\", \"Backend\", \"Frontend\", \"Data Analyst\", \"Backend\", \"Frontend\", \"Cybersecurity\"] \n",
    "# edizioni = [1, 2, 3, 2, 2, 1, 3, 3] \n",
    "# • Stampare a video tutti e soli gli studenti che frequentano una prima edizione;\n",
    "# non tutti i dati potrebbero essere necessari. \n",
    "# • Riuscite a vedere una similarità con la logica che si usa in SQL e le tabelle relazionali?\n",
    "\n",
    "studenti = [\"Alex\", \"Bob\", \"Cindy\", \"Dan\", \"Emma\", \"Faith\", \"Grace\", \"Henry\"]\n",
    "corsi = [\"Cybersecurity\", \"Data Analyst\", \"Backend\", \"Frontend\", \"Data Analyst\", \"Backend\", \"Frontend\", \"Cybersecurity\"]\n",
    "edizioni = [1, 2, 3, 2, 2, 1, 3, 3]\n",
    "\n",
    "\n",
    "for i in range(len(studenti)):\n",
    "    if edizioni[i] == 1:  # Controlliamo se l'edizione è la prima\n",
    "        print(studenti[i])  # Stampiamo il nome dello studente\n",
    "\n",
    "\n",
    "import pandas as pd\n",
    "\n",
    "db = pd.DataFrame({\n",
    "    'studente': studenti,\n",
    "    'corsi': corsi,\n",
    "    'edizioni': edizioni\n",
    "})\n",
    "print(db)\n"
   ]
  },
  {
   "cell_type": "code",
   "execution_count": 4,
   "metadata": {},
   "outputs": [
    {
     "name": "stdout",
     "output_type": "stream",
     "text": [
      "['100 $', '200 $', '500 $', '10 $', '50 $', '70 $']\n"
     ]
    }
   ],
   "source": [
    "# 23 Esercizio Abbiamo una lista di stringhe di prezzi in dollari, \n",
    "# che erroneamente sono stati scritti con il simbolo dell'euro: \n",
    "# prezzi = [\"100 €\", \"200 €\", \"500 €\", \"10 €\", \"50 €\", \"70 €\"] \n",
    "# cambiare il simbolo dell'euro (€) in quello del dollaro ($) \n",
    "# per ogni stringa nella lista; il risultato sarà memorizzato in un'altra lista.\n",
    "prezzi = [\"100 €\", \"200 €\", \"500 €\", \"10 €\", \"50 €\", \"70 €\"]\n",
    "\n",
    "prezzi_in_dollari = []\n",
    "\n",
    "for prezzo in prezzi:\n",
    "    # Sostituire il simbolo dell'euro (€) con il simbolo del dollaro ($)\n",
    "    prezzo_in_dollaro = prezzo.replace(\"€\", \"$\")\n",
    "    # Aggiungere il prezzo modificato alla nuova lista\n",
    "    prezzi_in_dollari.append(prezzo_in_dollaro)\n",
    "\n",
    "# Stampare la lista dei prezzi in dollari\n",
    "print(prezzi_in_dollari)"
   ]
  },
  {
   "cell_type": "code",
   "execution_count": 1,
   "metadata": {},
   "outputs": [
    {
     "name": "stdout",
     "output_type": "stream",
     "text": [
      "Squadra 1 (posizioni pari): ['Alex', 'Cindy', 'Emma', 'Grace', 'Isabelle']\n",
      "Squadra 2 (posizioni dispari): ['Bob', 'Dan', 'Faith', 'Henry', 'John']\n"
     ]
    }
   ],
   "source": [
    "# 24 Esercizio Abbiamo una lista di studenti: \n",
    "# studenti = [\"Alex\", \"Bob\", \"Cindy\", \"Dan\", \"Emma\", \"Faith\", \"Grace\", \"Henry\", \"Isabelle\", \"John\"]\n",
    "# vogliamo dividere gli studenti in due squadre per un campionato di Uno nel seguente modo:\n",
    "# selezioneremo i nomi in posizione pari per un squadra, \n",
    "# e i nomi in posizione dispari per l'altra. Creiamo due liste per ogni squadra, \n",
    "# e alla fine visualizziamole.\n",
    "\n",
    "\n",
    "studenti = [\"Alex\", \"Bob\", \"Cindy\", \"Dan\", \"Emma\", \"Faith\", \"Grace\", \"Henry\", \"Isabelle\", \"John\"]\n",
    "\n",
    "squadra1 = studenti[::2]\n",
    "\n",
    "squadra2 = studenti[1::2]\n",
    "\n",
    "print(\"Squadra 1 (posizioni pari):\", squadra1)\n",
    "print(\"Squadra 2 (posizioni dispari):\", squadra2)"
   ]
  },
  {
   "cell_type": "code",
   "execution_count": 3,
   "metadata": {},
   "outputs": [
    {
     "name": "stdout",
     "output_type": "stream",
     "text": [
      "Mese 2: 90 € (media prec: 100.00 €) - il guadagno attuale è minore\n",
      "Mese 3: 70 € (media prec: 95.00 €) - il guadagno attuale è minore\n",
      "Mese 4: 40 € (media prec: 86.67 €) - il guadagno attuale è minore\n",
      "Mese 5: 50 € (media prec: 75.00 €) - il guadagno attuale è minore\n",
      "Mese 6: 80 € (media prec: 70.00 €) - il guadagno attuale è maggiore\n",
      "Mese 7: 90 € (media prec: 71.67 €) - il guadagno attuale è maggiore\n",
      "Mese 8: 120 € (media prec: 74.29 €) - il guadagno attuale è maggiore\n",
      "Mese 9: 80 € (media prec: 80.00 €) - il guadagno attuale è uguale\n",
      "Mese 10: 20 € (media prec: 80.00 €) - il guadagno attuale è minore\n",
      "Mese 11: 50 € (media prec: 74.00 €) - il guadagno attuale è minore\n",
      "Mese 12: 50 € (media prec: 71.82 €) - il guadagno attuale è minore\n"
     ]
    }
   ],
   "source": [
    "\n",
    "#25 Esercizio Abbiamo una lista con i guadagni degli ultimi 12 mesi \n",
    "# (supponiamo da Gennaio a Dicembre): \n",
    "# guadagni = [100, 90, 70, 40, 50, 80, 90, 120, 80, 20, 50, 50] \n",
    "# dobbiamo confrontare, stampando tutto a video, il guadagno di ogni mese con la media dei guadagni precedenti,\n",
    "# e specificare nell'output se il guadagno attuale è maggiore o minore della media dei precedenti.\n",
    "# Esempio di un possibile output: Mese 1: 100 € Mese 2: 90 € (media prec: 100 € - il guadagno attuale è minore) Mese 3: 70 € (media prec: 95 € - il guadagno attuale è minore)\n",
    "\n",
    "guadagni = [100, 90, 70, 40, 50, 80, 90, 120, 80, 20, 50, 50]\n",
    "\n",
    "\n",
    "for i in range(1, len(guadagni)):  # Inizia dal mese 2 (indice 1)\n",
    "    mese_corrente = guadagni[i]\n",
    "    guadagni_precedenti = guadagni[:i]  # Guadagni precedenti al mese corrente\n",
    "    media_precedenti = sum(guadagni_precedenti) / len(guadagni_precedenti)  # Calcola la media dei guadagni precedenti\n",
    "    \n",
    "    if mese_corrente > media_precedenti:\n",
    "        risultato = \"il guadagno attuale è maggiore\"\n",
    "    elif mese_corrente == media_precedenti :\n",
    "        risultato = \"il guadagno attuale è uguale\"\n",
    "    else :\n",
    "         risultato = \"il guadagno attuale è minore\"\n",
    "    \n",
    "    print(f\"Mese {i+1}: {mese_corrente} € (media prec: {media_precedenti:.2f} €) - {risultato}\")\n",
    "\n",
    "\n"
   ]
  },
  {
   "cell_type": "code",
   "execution_count": 4,
   "metadata": {},
   "outputs": [
    {
     "name": "stdout",
     "output_type": "stream",
     "text": [
      "[   2    4   68   10   12   14   14   16   64    6 1046    2    6  690\n",
      "  112]\n"
     ]
    }
   ],
   "source": [
    "numeri = [1,2,34,5,6,7,7,8,32,3,523,1,3,345,56]\n",
    "import numpy as np\n",
    "\n",
    "numery = np.array(numeri)\n",
    "\n",
    "numery = numery * 2\n",
    "print(numery)"
   ]
  }
 ],
 "metadata": {
  "kernelspec": {
   "display_name": "Python 3",
   "language": "python",
   "name": "python3"
  },
  "language_info": {
   "codemirror_mode": {
    "name": "ipython",
    "version": 3
   },
   "file_extension": ".py",
   "mimetype": "text/x-python",
   "name": "python",
   "nbconvert_exporter": "python",
   "pygments_lexer": "ipython3",
   "version": "3.13.0"
  }
 },
 "nbformat": 4,
 "nbformat_minor": 2
}
